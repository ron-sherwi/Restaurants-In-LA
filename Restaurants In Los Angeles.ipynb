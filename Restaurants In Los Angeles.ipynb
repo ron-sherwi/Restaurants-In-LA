{
 "cells": [
  {
   "cell_type": "markdown",
   "metadata": {},
   "source": [
    "# Market Research - Restaurants In Los Angeles\n",
    "## Project Description\n",
    "\n",
    "- <b> Hey! I'm Ron Sherwi </b>, and my team consider to open a small robot-run cafe in Los Angeles, so they’re interested in the current market conditions.\n",
    "\n",
    "\n",
    "- <b> My main goal is to understand and describe the characteristics of restaurants in LA,</b> based of:\n",
    "    - Type of restaurants\n",
    "    - Restaurant's street\n",
    "    - Number of seats in a restaurant\n",
    "    - Chain / not a chain of restaurants\n",
    "    \n",
    "    \n",
    "- <b> I used data of thousands restaurants in LA during 2019. </b> There are many types of restaurants: cafe, fast food, bakery, Pizza, Bar and regular restaurants.\n",
    "    \n",
    "    \n",
    "- <b> The project is divided to 3 parts: </b>\n",
    "    * <a href=\"#first_step\">Data Preprocessing & EDA</a>\n",
    "    * <a href=\"#second_step\">Answer key questions</a>\n",
    "    * <a href=\"#third_step\">Conclusions and recommendations</a>\n",
    "    \n",
    "## Link to Presentation <a href=\"https://drive.google.com/file/d/1RQ4pHRMyhtmq-U7-r8DF3qYS3Iq6zsiB/view?usp=sharing\"> Here </a>\n"
   ]
  },
  {
   "cell_type": "markdown",
   "metadata": {},
   "source": [
    "# <a id=\"first_step\"> Step 1 - data pre-processing & EDA </a> \n",
    "\n",
    "1. Import nacessary libraries & load data.\n",
    "2. Optimizing the data storage.\n",
    "3. Converting data types.\n",
    "4. Searching missing values.\n",
    "5. Pointing on outliers.\n",
    "6. Searching duplicates."
   ]
  },
  {
   "cell_type": "markdown",
   "metadata": {},
   "source": [
    "### Import necessary libraries"
   ]
  },
  {
   "cell_type": "code",
   "execution_count": 315,
   "metadata": {
    "collapsed": true
   },
   "outputs": [
    {
     "name": "stdout",
     "output_type": "stream",
     "text": [
      "Requirement already satisfied: regex in c:\\users\\ronsh\\anaconda3\\lib\\site-packages (2020.10.15)\n",
      "Requirement already satisfied: usaddress in c:\\users\\ronsh\\anaconda3\\lib\\site-packages (0.5.10)\n",
      "Requirement already satisfied: future>=0.14 in c:\\users\\ronsh\\anaconda3\\lib\\site-packages (from usaddress) (0.18.2)\n",
      "Requirement already satisfied: probableparsing in c:\\users\\ronsh\\anaconda3\\lib\\site-packages (from usaddress) (0.0.1)\n",
      "Requirement already satisfied: python-crfsuite>=0.7 in c:\\users\\ronsh\\anaconda3\\lib\\site-packages (from usaddress) (0.9.7)\n"
     ]
    }
   ],
   "source": [
    "import pandas as pd\n",
    "import numpy as np\n",
    "import matplotlib.pyplot as plt\n",
    "import seaborn as sns\n",
    "!pip install regex\n",
    "import regex as re\n",
    "!pip install usaddress\n",
    "import usaddress"
   ]
  },
  {
   "cell_type": "markdown",
   "metadata": {},
   "source": [
    "### Load the data -"
   ]
  },
  {
   "cell_type": "code",
   "execution_count": 316,
   "metadata": {},
   "outputs": [],
   "source": [
    "path = '/datasets/'\n",
    "file = 'rest_data_us.csv'\n",
    "data = pd.read_csv(path + file)"
   ]
  },
  {
   "cell_type": "markdown",
   "metadata": {},
   "source": [
    "### First look on data -"
   ]
  },
  {
   "cell_type": "code",
   "execution_count": 317,
   "metadata": {},
   "outputs": [
    {
     "data": {
      "text/html": [
       "<div>\n",
       "<style scoped>\n",
       "    .dataframe tbody tr th:only-of-type {\n",
       "        vertical-align: middle;\n",
       "    }\n",
       "\n",
       "    .dataframe tbody tr th {\n",
       "        vertical-align: top;\n",
       "    }\n",
       "\n",
       "    .dataframe thead th {\n",
       "        text-align: right;\n",
       "    }\n",
       "</style>\n",
       "<table border=\"1\" class=\"dataframe\">\n",
       "  <thead>\n",
       "    <tr style=\"text-align: right;\">\n",
       "      <th></th>\n",
       "      <th>id</th>\n",
       "      <th>object_name</th>\n",
       "      <th>address</th>\n",
       "      <th>chain</th>\n",
       "      <th>object_type</th>\n",
       "      <th>number</th>\n",
       "    </tr>\n",
       "  </thead>\n",
       "  <tbody>\n",
       "    <tr>\n",
       "      <th>0</th>\n",
       "      <td>11786</td>\n",
       "      <td>HABITAT COFFEE SHOP</td>\n",
       "      <td>3708 N EAGLE ROCK BLVD</td>\n",
       "      <td>False</td>\n",
       "      <td>Cafe</td>\n",
       "      <td>26</td>\n",
       "    </tr>\n",
       "    <tr>\n",
       "      <th>1</th>\n",
       "      <td>11787</td>\n",
       "      <td>REILLY'S</td>\n",
       "      <td>100 WORLD WAY # 120</td>\n",
       "      <td>False</td>\n",
       "      <td>Restaurant</td>\n",
       "      <td>9</td>\n",
       "    </tr>\n",
       "    <tr>\n",
       "      <th>2</th>\n",
       "      <td>11788</td>\n",
       "      <td>STREET CHURROS</td>\n",
       "      <td>6801 HOLLYWOOD BLVD # 253</td>\n",
       "      <td>False</td>\n",
       "      <td>Fast Food</td>\n",
       "      <td>20</td>\n",
       "    </tr>\n",
       "    <tr>\n",
       "      <th>3</th>\n",
       "      <td>11789</td>\n",
       "      <td>TRINITI ECHO PARK</td>\n",
       "      <td>1814 W SUNSET BLVD</td>\n",
       "      <td>False</td>\n",
       "      <td>Restaurant</td>\n",
       "      <td>22</td>\n",
       "    </tr>\n",
       "    <tr>\n",
       "      <th>4</th>\n",
       "      <td>11790</td>\n",
       "      <td>POLLEN</td>\n",
       "      <td>2100 ECHO PARK AVE</td>\n",
       "      <td>False</td>\n",
       "      <td>Restaurant</td>\n",
       "      <td>20</td>\n",
       "    </tr>\n",
       "  </tbody>\n",
       "</table>\n",
       "</div>"
      ],
      "text/plain": [
       "      id          object_name                    address  chain object_type  \\\n",
       "0  11786  HABITAT COFFEE SHOP     3708 N EAGLE ROCK BLVD  False        Cafe   \n",
       "1  11787             REILLY'S        100 WORLD WAY # 120  False  Restaurant   \n",
       "2  11788       STREET CHURROS  6801 HOLLYWOOD BLVD # 253  False   Fast Food   \n",
       "3  11789    TRINITI ECHO PARK         1814 W SUNSET BLVD  False  Restaurant   \n",
       "4  11790               POLLEN         2100 ECHO PARK AVE  False  Restaurant   \n",
       "\n",
       "   number  \n",
       "0      26  \n",
       "1       9  \n",
       "2      20  \n",
       "3      22  \n",
       "4      20  "
      ]
     },
     "execution_count": 317,
     "metadata": {},
     "output_type": "execute_result"
    }
   ],
   "source": [
    "data.head()"
   ]
  },
  {
   "cell_type": "code",
   "execution_count": 319,
   "metadata": {},
   "outputs": [
    {
     "data": {
      "text/html": [
       "<div>\n",
       "<style scoped>\n",
       "    .dataframe tbody tr th:only-of-type {\n",
       "        vertical-align: middle;\n",
       "    }\n",
       "\n",
       "    .dataframe tbody tr th {\n",
       "        vertical-align: top;\n",
       "    }\n",
       "\n",
       "    .dataframe thead th {\n",
       "        text-align: right;\n",
       "    }\n",
       "</style>\n",
       "<table border=\"1\" class=\"dataframe\">\n",
       "  <thead>\n",
       "    <tr style=\"text-align: right;\">\n",
       "      <th></th>\n",
       "      <th>id</th>\n",
       "      <th>object_name</th>\n",
       "      <th>address</th>\n",
       "      <th>chain</th>\n",
       "      <th>object_type</th>\n",
       "      <th>number</th>\n",
       "    </tr>\n",
       "  </thead>\n",
       "  <tbody>\n",
       "    <tr>\n",
       "      <th>9646</th>\n",
       "      <td>21432</td>\n",
       "      <td>HALL OF JUSTICE</td>\n",
       "      <td>217 W TEMPLE AVE</td>\n",
       "      <td>False</td>\n",
       "      <td>Restaurant</td>\n",
       "      <td>122</td>\n",
       "    </tr>\n",
       "    <tr>\n",
       "      <th>9647</th>\n",
       "      <td>21433</td>\n",
       "      <td>FIN-MELROSE</td>\n",
       "      <td>5750 MELROSE AVE</td>\n",
       "      <td>False</td>\n",
       "      <td>Restaurant</td>\n",
       "      <td>93</td>\n",
       "    </tr>\n",
       "    <tr>\n",
       "      <th>9648</th>\n",
       "      <td>21434</td>\n",
       "      <td>JUICY WINGZ</td>\n",
       "      <td>6741 HOLLYWOOD BLVD</td>\n",
       "      <td>True</td>\n",
       "      <td>Fast Food</td>\n",
       "      <td>15</td>\n",
       "    </tr>\n",
       "    <tr>\n",
       "      <th>9649</th>\n",
       "      <td>21435</td>\n",
       "      <td>MEDIDATE COFFEE</td>\n",
       "      <td>548 S SPRING ST STE 100</td>\n",
       "      <td>False</td>\n",
       "      <td>Cafe</td>\n",
       "      <td>6</td>\n",
       "    </tr>\n",
       "    <tr>\n",
       "      <th>9650</th>\n",
       "      <td>21436</td>\n",
       "      <td>CAFE SPROUTS</td>\n",
       "      <td>1300 S SAN PEDRO ST STE 111</td>\n",
       "      <td>True</td>\n",
       "      <td>Restaurant</td>\n",
       "      <td>19</td>\n",
       "    </tr>\n",
       "  </tbody>\n",
       "</table>\n",
       "</div>"
      ],
      "text/plain": [
       "         id      object_name                      address  chain object_type  \\\n",
       "9646  21432  HALL OF JUSTICE             217 W TEMPLE AVE  False  Restaurant   \n",
       "9647  21433      FIN-MELROSE             5750 MELROSE AVE  False  Restaurant   \n",
       "9648  21434      JUICY WINGZ          6741 HOLLYWOOD BLVD   True   Fast Food   \n",
       "9649  21435  MEDIDATE COFFEE      548 S SPRING ST STE 100  False        Cafe   \n",
       "9650  21436     CAFE SPROUTS  1300 S SAN PEDRO ST STE 111   True  Restaurant   \n",
       "\n",
       "      number  \n",
       "9646     122  \n",
       "9647      93  \n",
       "9648      15  \n",
       "9649       6  \n",
       "9650      19  "
      ]
     },
     "execution_count": 319,
     "metadata": {},
     "output_type": "execute_result"
    }
   ],
   "source": [
    "data.tail()"
   ]
  },
  {
   "cell_type": "code",
   "execution_count": 320,
   "metadata": {},
   "outputs": [
    {
     "name": "stdout",
     "output_type": "stream",
     "text": [
      "<class 'pandas.core.frame.DataFrame'>\n",
      "RangeIndex: 9651 entries, 0 to 9650\n",
      "Data columns (total 6 columns):\n",
      " #   Column       Non-Null Count  Dtype \n",
      "---  ------       --------------  ----- \n",
      " 0   id           9651 non-null   int64 \n",
      " 1   object_name  9651 non-null   object\n",
      " 2   address      9651 non-null   object\n",
      " 3   chain        9648 non-null   object\n",
      " 4   object_type  9651 non-null   object\n",
      " 5   number       9651 non-null   int64 \n",
      "dtypes: int64(2), object(4)\n",
      "memory usage: 2.4 MB\n"
     ]
    }
   ],
   "source": [
    "data.info(memory_usage='deep')"
   ]
  },
  {
   "cell_type": "markdown",
   "metadata": {},
   "source": [
    "* <b> Missings </b> - 3 values in 'chain' column.\n",
    "* <b> Convert types </b> - 'chain' to Boolean type, 'object_type' to Category. "
   ]
  },
  {
   "cell_type": "markdown",
   "metadata": {},
   "source": [
    "### Change 'number' name to relevant name - seats "
   ]
  },
  {
   "cell_type": "code",
   "execution_count": 321,
   "metadata": {},
   "outputs": [],
   "source": [
    "data = data.rename(columns={'number': 'seats'})"
   ]
  },
  {
   "cell_type": "markdown",
   "metadata": {},
   "source": [
    "### Checking 'id' column -\n",
    "* Values are between 11,786 - 21,436.\n",
    "* No duplicates."
   ]
  },
  {
   "cell_type": "code",
   "execution_count": 322,
   "metadata": {},
   "outputs": [
    {
     "data": {
      "text/html": [
       "<div>\n",
       "<style scoped>\n",
       "    .dataframe tbody tr th:only-of-type {\n",
       "        vertical-align: middle;\n",
       "    }\n",
       "\n",
       "    .dataframe tbody tr th {\n",
       "        vertical-align: top;\n",
       "    }\n",
       "\n",
       "    .dataframe thead th {\n",
       "        text-align: right;\n",
       "    }\n",
       "</style>\n",
       "<table border=\"1\" class=\"dataframe\">\n",
       "  <thead>\n",
       "    <tr style=\"text-align: right;\">\n",
       "      <th></th>\n",
       "      <th>id</th>\n",
       "    </tr>\n",
       "  </thead>\n",
       "  <tbody>\n",
       "    <tr>\n",
       "      <th>count</th>\n",
       "      <td>9651.000000</td>\n",
       "    </tr>\n",
       "    <tr>\n",
       "      <th>mean</th>\n",
       "      <td>16611.000000</td>\n",
       "    </tr>\n",
       "    <tr>\n",
       "      <th>std</th>\n",
       "      <td>2786.148058</td>\n",
       "    </tr>\n",
       "    <tr>\n",
       "      <th>min</th>\n",
       "      <td>11786.000000</td>\n",
       "    </tr>\n",
       "    <tr>\n",
       "      <th>25%</th>\n",
       "      <td>14198.500000</td>\n",
       "    </tr>\n",
       "    <tr>\n",
       "      <th>50%</th>\n",
       "      <td>16611.000000</td>\n",
       "    </tr>\n",
       "    <tr>\n",
       "      <th>75%</th>\n",
       "      <td>19023.500000</td>\n",
       "    </tr>\n",
       "    <tr>\n",
       "      <th>max</th>\n",
       "      <td>21436.000000</td>\n",
       "    </tr>\n",
       "  </tbody>\n",
       "</table>\n",
       "</div>"
      ],
      "text/plain": [
       "                 id\n",
       "count   9651.000000\n",
       "mean   16611.000000\n",
       "std     2786.148058\n",
       "min    11786.000000\n",
       "25%    14198.500000\n",
       "50%    16611.000000\n",
       "75%    19023.500000\n",
       "max    21436.000000"
      ]
     },
     "execution_count": 322,
     "metadata": {},
     "output_type": "execute_result"
    }
   ],
   "source": [
    "data[['id']].describe()"
   ]
  },
  {
   "cell_type": "code",
   "execution_count": 323,
   "metadata": {},
   "outputs": [
    {
     "data": {
      "text/plain": [
       "0"
      ]
     },
     "execution_count": 323,
     "metadata": {},
     "output_type": "execute_result"
    }
   ],
   "source": [
    "data.id.duplicated().sum()"
   ]
  },
  {
   "cell_type": "markdown",
   "metadata": {},
   "source": [
    "### Checking 'object_name' column -"
   ]
  },
  {
   "cell_type": "markdown",
   "metadata": {},
   "source": [
    "* <b> Looking for empty strings </b> (when object's name is \" \") - I didn't find such cases.\n",
    "* <b> Adding number of objects per restaurnt - but for it we need to edit 'object name'. </b> We saw in the begginning that there are restaurants with signs like '#number of branch', so for calculating the accurate number of objects per restaurant I need to remove the adds."
   ]
  },
  {
   "cell_type": "code",
   "execution_count": 324,
   "metadata": {},
   "outputs": [
    {
     "data": {
      "text/plain": [
       "0"
      ]
     },
     "execution_count": 324,
     "metadata": {},
     "output_type": "execute_result"
    }
   ],
   "source": [
    "# Looking for empty strings\n",
    "len(data[data.object_name.isin(['', ' '])])"
   ]
  },
  {
   "cell_type": "code",
   "execution_count": 325,
   "metadata": {},
   "outputs": [
    {
     "data": {
      "text/html": [
       "<div>\n",
       "<style scoped>\n",
       "    .dataframe tbody tr th:only-of-type {\n",
       "        vertical-align: middle;\n",
       "    }\n",
       "\n",
       "    .dataframe tbody tr th {\n",
       "        vertical-align: top;\n",
       "    }\n",
       "\n",
       "    .dataframe thead th {\n",
       "        text-align: right;\n",
       "    }\n",
       "</style>\n",
       "<table border=\"1\" class=\"dataframe\">\n",
       "  <thead>\n",
       "    <tr style=\"text-align: right;\">\n",
       "      <th></th>\n",
       "      <th>object_name</th>\n",
       "    </tr>\n",
       "  </thead>\n",
       "  <tbody>\n",
       "    <tr>\n",
       "      <th>count</th>\n",
       "      <td>9651</td>\n",
       "    </tr>\n",
       "    <tr>\n",
       "      <th>unique</th>\n",
       "      <td>8672</td>\n",
       "    </tr>\n",
       "    <tr>\n",
       "      <th>top</th>\n",
       "      <td>the coffee bean &amp; tea leaf</td>\n",
       "    </tr>\n",
       "    <tr>\n",
       "      <th>freq</th>\n",
       "      <td>47</td>\n",
       "    </tr>\n",
       "  </tbody>\n",
       "</table>\n",
       "</div>"
      ],
      "text/plain": [
       "                       object_name\n",
       "count                         9651\n",
       "unique                        8672\n",
       "top     the coffee bean & tea leaf\n",
       "freq                            47"
      ]
     },
     "execution_count": 325,
     "metadata": {},
     "output_type": "execute_result"
    }
   ],
   "source": [
    "# Switching to lowercase.\n",
    "data['object_name'] = data.object_name.str.lower()\n",
    "# Checking number of unique objects\n",
    "data[['object_name']].describe()"
   ]
  },
  {
   "cell_type": "code",
   "execution_count": 326,
   "metadata": {},
   "outputs": [
    {
     "data": {
      "text/html": [
       "<div>\n",
       "<style scoped>\n",
       "    .dataframe tbody tr th:only-of-type {\n",
       "        vertical-align: middle;\n",
       "    }\n",
       "\n",
       "    .dataframe tbody tr th {\n",
       "        vertical-align: top;\n",
       "    }\n",
       "\n",
       "    .dataframe thead th {\n",
       "        text-align: right;\n",
       "    }\n",
       "</style>\n",
       "<table border=\"1\" class=\"dataframe\">\n",
       "  <thead>\n",
       "    <tr style=\"text-align: right;\">\n",
       "      <th></th>\n",
       "      <th>name_edited</th>\n",
       "    </tr>\n",
       "  </thead>\n",
       "  <tbody>\n",
       "    <tr>\n",
       "      <th>count</th>\n",
       "      <td>9651</td>\n",
       "    </tr>\n",
       "    <tr>\n",
       "      <th>unique</th>\n",
       "      <td>7812</td>\n",
       "    </tr>\n",
       "    <tr>\n",
       "      <th>top</th>\n",
       "      <td>subway</td>\n",
       "    </tr>\n",
       "    <tr>\n",
       "      <th>freq</th>\n",
       "      <td>122</td>\n",
       "    </tr>\n",
       "  </tbody>\n",
       "</table>\n",
       "</div>"
      ],
      "text/plain": [
       "       name_edited\n",
       "count         9651\n",
       "unique        7812\n",
       "top         subway\n",
       "freq           122"
      ]
     },
     "execution_count": 326,
     "metadata": {},
     "output_type": "execute_result"
    }
   ],
   "source": [
    "# Fixing the names of objects - \n",
    "data['name_edited'] = data.apply(lambda x: ' '.join(re.findall('[a-z,\\']+', x.object_name)),\n",
    "                                 axis=1)\n",
    "data[['name_edited']].describe()"
   ]
  },
  {
   "cell_type": "markdown",
   "metadata": {},
   "source": [
    "<b> We can see the importance of 'cleaning' the names </b> - number of unique restaurants decreased.\n",
    "\n",
    "<b> Great example of Mcdonald's is below </b> - the same restaurant, another object name."
   ]
  },
  {
   "cell_type": "code",
   "execution_count": 327,
   "metadata": {},
   "outputs": [
    {
     "data": {
      "text/html": [
       "<div>\n",
       "<style scoped>\n",
       "    .dataframe tbody tr th:only-of-type {\n",
       "        vertical-align: middle;\n",
       "    }\n",
       "\n",
       "    .dataframe tbody tr th {\n",
       "        vertical-align: top;\n",
       "    }\n",
       "\n",
       "    .dataframe thead th {\n",
       "        text-align: right;\n",
       "    }\n",
       "</style>\n",
       "<table border=\"1\" class=\"dataframe\">\n",
       "  <thead>\n",
       "    <tr style=\"text-align: right;\">\n",
       "      <th></th>\n",
       "      <th>id</th>\n",
       "      <th>object_name</th>\n",
       "      <th>address</th>\n",
       "      <th>chain</th>\n",
       "      <th>object_type</th>\n",
       "      <th>seats</th>\n",
       "      <th>name_edited</th>\n",
       "    </tr>\n",
       "  </thead>\n",
       "  <tbody>\n",
       "    <tr>\n",
       "      <th>2709</th>\n",
       "      <td>14495</td>\n",
       "      <td>mcdonald's # 6999</td>\n",
       "      <td>695 S WESTERN AVE</td>\n",
       "      <td>True</td>\n",
       "      <td>Fast Food</td>\n",
       "      <td>63</td>\n",
       "      <td>mcdonald's</td>\n",
       "    </tr>\n",
       "    <tr>\n",
       "      <th>4281</th>\n",
       "      <td>16067</td>\n",
       "      <td>mcdonald's #2287</td>\n",
       "      <td>11300 NATIONAL BLVD</td>\n",
       "      <td>True</td>\n",
       "      <td>Fast Food</td>\n",
       "      <td>108</td>\n",
       "      <td>mcdonald's</td>\n",
       "    </tr>\n",
       "    <tr>\n",
       "      <th>8234</th>\n",
       "      <td>20020</td>\n",
       "      <td>mcdonald's #26983</td>\n",
       "      <td>692 S ALVARADO ST</td>\n",
       "      <td>True</td>\n",
       "      <td>Fast Food</td>\n",
       "      <td>33</td>\n",
       "      <td>mcdonald's</td>\n",
       "    </tr>\n",
       "    <tr>\n",
       "      <th>4802</th>\n",
       "      <td>16588</td>\n",
       "      <td>mcdonald's #14473</td>\n",
       "      <td>3868 E 3RD ST</td>\n",
       "      <td>True</td>\n",
       "      <td>Fast Food</td>\n",
       "      <td>107</td>\n",
       "      <td>mcdonald's</td>\n",
       "    </tr>\n",
       "    <tr>\n",
       "      <th>4987</th>\n",
       "      <td>16773</td>\n",
       "      <td>mcdonald's #24695</td>\n",
       "      <td>1900 W SLAUSON AVE</td>\n",
       "      <td>True</td>\n",
       "      <td>Fast Food</td>\n",
       "      <td>123</td>\n",
       "      <td>mcdonald's</td>\n",
       "    </tr>\n",
       "  </tbody>\n",
       "</table>\n",
       "</div>"
      ],
      "text/plain": [
       "         id        object_name              address chain object_type  seats  \\\n",
       "2709  14495  mcdonald's # 6999    695 S WESTERN AVE  True   Fast Food     63   \n",
       "4281  16067   mcdonald's #2287  11300 NATIONAL BLVD  True   Fast Food    108   \n",
       "8234  20020  mcdonald's #26983    692 S ALVARADO ST  True   Fast Food     33   \n",
       "4802  16588  mcdonald's #14473        3868 E 3RD ST  True   Fast Food    107   \n",
       "4987  16773  mcdonald's #24695   1900 W SLAUSON AVE  True   Fast Food    123   \n",
       "\n",
       "     name_edited  \n",
       "2709  mcdonald's  \n",
       "4281  mcdonald's  \n",
       "8234  mcdonald's  \n",
       "4802  mcdonald's  \n",
       "4987  mcdonald's  "
      ]
     },
     "execution_count": 327,
     "metadata": {},
     "output_type": "execute_result"
    }
   ],
   "source": [
    "data.loc[data.name_edited == \"mcdonald's\"].sample(5)"
   ]
  },
  {
   "cell_type": "markdown",
   "metadata": {},
   "source": [
    "### Checking distribution of objects per restaurant name"
   ]
  },
  {
   "cell_type": "code",
   "execution_count": 328,
   "metadata": {},
   "outputs": [
    {
     "data": {
      "text/html": [
       "<div>\n",
       "<style scoped>\n",
       "    .dataframe tbody tr th:only-of-type {\n",
       "        vertical-align: middle;\n",
       "    }\n",
       "\n",
       "    .dataframe tbody tr th {\n",
       "        vertical-align: top;\n",
       "    }\n",
       "\n",
       "    .dataframe thead th {\n",
       "        text-align: right;\n",
       "    }\n",
       "</style>\n",
       "<table border=\"1\" class=\"dataframe\">\n",
       "  <thead>\n",
       "    <tr style=\"text-align: right;\">\n",
       "      <th></th>\n",
       "      <th>name_edited</th>\n",
       "      <th>num_of_objects</th>\n",
       "    </tr>\n",
       "  </thead>\n",
       "  <tbody>\n",
       "    <tr>\n",
       "      <th>6405</th>\n",
       "      <td>subway</td>\n",
       "      <td>122</td>\n",
       "    </tr>\n",
       "    <tr>\n",
       "      <th>6357</th>\n",
       "      <td>starbucks coffee</td>\n",
       "      <td>87</td>\n",
       "    </tr>\n",
       "    <tr>\n",
       "      <th>4415</th>\n",
       "      <td>mcdonald's</td>\n",
       "      <td>80</td>\n",
       "    </tr>\n",
       "    <tr>\n",
       "      <th>3128</th>\n",
       "      <td>jack in the box</td>\n",
       "      <td>54</td>\n",
       "    </tr>\n",
       "    <tr>\n",
       "      <th>6857</th>\n",
       "      <td>the coffee bean tea leaf</td>\n",
       "      <td>51</td>\n",
       "    </tr>\n",
       "  </tbody>\n",
       "</table>\n",
       "</div>"
      ],
      "text/plain": [
       "                   name_edited  num_of_objects\n",
       "6405                    subway             122\n",
       "6357          starbucks coffee              87\n",
       "4415                mcdonald's              80\n",
       "3128           jack in the box              54\n",
       "6857  the coffee bean tea leaf              51"
      ]
     },
     "execution_count": 328,
     "metadata": {},
     "output_type": "execute_result"
    }
   ],
   "source": [
    "# Checking number of objects per restaurant name\n",
    "objects_data = data.groupby('name_edited').agg({'id':'count'}).reset_index()\n",
    "objects_data.columns = ['name_edited', 'num_of_objects']\n",
    "objects_data.sort_values(by='num_of_objects', ascending=False).head()"
   ]
  },
  {
   "cell_type": "code",
   "execution_count": 329,
   "metadata": {},
   "outputs": [
    {
     "data": {
      "text/html": [
       "<div>\n",
       "<style scoped>\n",
       "    .dataframe tbody tr th:only-of-type {\n",
       "        vertical-align: middle;\n",
       "    }\n",
       "\n",
       "    .dataframe tbody tr th {\n",
       "        vertical-align: top;\n",
       "    }\n",
       "\n",
       "    .dataframe thead th {\n",
       "        text-align: right;\n",
       "    }\n",
       "</style>\n",
       "<table border=\"1\" class=\"dataframe\">\n",
       "  <thead>\n",
       "    <tr style=\"text-align: right;\">\n",
       "      <th></th>\n",
       "      <th>num_of_objects</th>\n",
       "    </tr>\n",
       "  </thead>\n",
       "  <tbody>\n",
       "    <tr>\n",
       "      <th>count</th>\n",
       "      <td>7812.000000</td>\n",
       "    </tr>\n",
       "    <tr>\n",
       "      <th>mean</th>\n",
       "      <td>1.235407</td>\n",
       "    </tr>\n",
       "    <tr>\n",
       "      <th>std</th>\n",
       "      <td>2.444731</td>\n",
       "    </tr>\n",
       "    <tr>\n",
       "      <th>min</th>\n",
       "      <td>1.000000</td>\n",
       "    </tr>\n",
       "    <tr>\n",
       "      <th>25%</th>\n",
       "      <td>1.000000</td>\n",
       "    </tr>\n",
       "    <tr>\n",
       "      <th>50%</th>\n",
       "      <td>1.000000</td>\n",
       "    </tr>\n",
       "    <tr>\n",
       "      <th>75%</th>\n",
       "      <td>1.000000</td>\n",
       "    </tr>\n",
       "    <tr>\n",
       "      <th>max</th>\n",
       "      <td>122.000000</td>\n",
       "    </tr>\n",
       "  </tbody>\n",
       "</table>\n",
       "</div>"
      ],
      "text/plain": [
       "       num_of_objects\n",
       "count     7812.000000\n",
       "mean         1.235407\n",
       "std          2.444731\n",
       "min          1.000000\n",
       "25%          1.000000\n",
       "50%          1.000000\n",
       "75%          1.000000\n",
       "max        122.000000"
      ]
     },
     "execution_count": 329,
     "metadata": {},
     "output_type": "execute_result"
    }
   ],
   "source": [
    "objects_data[['num_of_objects']].describe()"
   ]
  },
  {
   "cell_type": "code",
   "execution_count": 330,
   "metadata": {},
   "outputs": [
    {
     "data": {
      "image/png": "[encoded data removed]",
      "text/plain": [
       "<Figure size 432x288 with 1 Axes>"
      ]
     },
     "metadata": {
      "needs_background": "light"
     },
     "output_type": "display_data"
    }
   ],
   "source": [
    "ax = objects_data.num_of_objects.hist(bins=20, log=True)\n",
    "plt.title('Distribution of Places Per Object', fontsize=15)\n",
    "plt.xlabel('Number of Places')\n",
    "plt.ylabel('Distribution')\n",
    "plt.show()"
   ]
  },
  {
   "cell_type": "code",
   "execution_count": 331,
   "metadata": {},
   "outputs": [
    {
     "name": "stdout",
     "output_type": "stream",
     "text": [
      "95% of the restaurants have 2 places or less\n",
      "97.5% of the restaurants have 3  places or less\n",
      "99% of the restaurants have 5  places or less\n"
     ]
    }
   ],
   "source": [
    "print('95% of the restaurants have', int(np.percentile(objects_data.num_of_objects, 95)), 'places or less')\n",
    "print('97.5% of the restaurants have',int(np.percentile(objects_data.num_of_objects, 97.5)),' places or less')\n",
    "print('99% of the restaurants have',int(np.percentile(objects_data.num_of_objects, 99)),' places or less')"
   ]
  },
  {
   "cell_type": "code",
   "execution_count": 332,
   "metadata": {},
   "outputs": [
    {
     "data": {
      "text/html": [
       "<div>\n",
       "<style scoped>\n",
       "    .dataframe tbody tr th:only-of-type {\n",
       "        vertical-align: middle;\n",
       "    }\n",
       "\n",
       "    .dataframe tbody tr th {\n",
       "        vertical-align: top;\n",
       "    }\n",
       "\n",
       "    .dataframe thead th {\n",
       "        text-align: right;\n",
       "    }\n",
       "</style>\n",
       "<table border=\"1\" class=\"dataframe\">\n",
       "  <thead>\n",
       "    <tr style=\"text-align: right;\">\n",
       "      <th></th>\n",
       "      <th>id</th>\n",
       "      <th>object_name</th>\n",
       "      <th>address</th>\n",
       "      <th>chain</th>\n",
       "      <th>object_type</th>\n",
       "      <th>seats</th>\n",
       "      <th>name_edited</th>\n",
       "      <th>num_of_objects</th>\n",
       "    </tr>\n",
       "  </thead>\n",
       "  <tbody>\n",
       "    <tr>\n",
       "      <th>0</th>\n",
       "      <td>11786</td>\n",
       "      <td>habitat coffee shop</td>\n",
       "      <td>3708 N EAGLE ROCK BLVD</td>\n",
       "      <td>False</td>\n",
       "      <td>Cafe</td>\n",
       "      <td>26</td>\n",
       "      <td>habitat coffee shop</td>\n",
       "      <td>1</td>\n",
       "    </tr>\n",
       "    <tr>\n",
       "      <th>1</th>\n",
       "      <td>11787</td>\n",
       "      <td>reilly's</td>\n",
       "      <td>100 WORLD WAY # 120</td>\n",
       "      <td>False</td>\n",
       "      <td>Restaurant</td>\n",
       "      <td>9</td>\n",
       "      <td>reilly's</td>\n",
       "      <td>1</td>\n",
       "    </tr>\n",
       "    <tr>\n",
       "      <th>2</th>\n",
       "      <td>11788</td>\n",
       "      <td>street churros</td>\n",
       "      <td>6801 HOLLYWOOD BLVD # 253</td>\n",
       "      <td>False</td>\n",
       "      <td>Fast Food</td>\n",
       "      <td>20</td>\n",
       "      <td>street churros</td>\n",
       "      <td>1</td>\n",
       "    </tr>\n",
       "    <tr>\n",
       "      <th>3</th>\n",
       "      <td>11789</td>\n",
       "      <td>triniti echo park</td>\n",
       "      <td>1814 W SUNSET BLVD</td>\n",
       "      <td>False</td>\n",
       "      <td>Restaurant</td>\n",
       "      <td>22</td>\n",
       "      <td>triniti echo park</td>\n",
       "      <td>1</td>\n",
       "    </tr>\n",
       "    <tr>\n",
       "      <th>4</th>\n",
       "      <td>11790</td>\n",
       "      <td>pollen</td>\n",
       "      <td>2100 ECHO PARK AVE</td>\n",
       "      <td>False</td>\n",
       "      <td>Restaurant</td>\n",
       "      <td>20</td>\n",
       "      <td>pollen</td>\n",
       "      <td>1</td>\n",
       "    </tr>\n",
       "  </tbody>\n",
       "</table>\n",
       "</div>"
      ],
      "text/plain": [
       "      id          object_name                    address  chain object_type  \\\n",
       "0  11786  habitat coffee shop     3708 N EAGLE ROCK BLVD  False        Cafe   \n",
       "1  11787             reilly's        100 WORLD WAY # 120  False  Restaurant   \n",
       "2  11788       street churros  6801 HOLLYWOOD BLVD # 253  False   Fast Food   \n",
       "3  11789    triniti echo park         1814 W SUNSET BLVD  False  Restaurant   \n",
       "4  11790               pollen         2100 ECHO PARK AVE  False  Restaurant   \n",
       "\n",
       "   seats          name_edited  num_of_objects  \n",
       "0     26  habitat coffee shop               1  \n",
       "1      9             reilly's               1  \n",
       "2     20       street churros               1  \n",
       "3     22    triniti echo park               1  \n",
       "4     20               pollen               1  "
      ]
     },
     "execution_count": 332,
     "metadata": {},
     "output_type": "execute_result"
    }
   ],
   "source": [
    "# Adding num of objects to the main data\n",
    "data = data.merge(objects_data, on='name_edited', how='left')\n",
    "data.head()"
   ]
  },
  {
   "cell_type": "markdown",
   "metadata": {},
   "source": [
    "### Checking 'chain' column -\n",
    "* <b> 3 missing values </b> - I checked this objects in Google and they're not chains.\n",
    "* <b> Looking for empty strings </b> - (when address name is \" \", for example).I didn't find such cases.\n",
    "* <b> Unmarked chains </b> - I found restaurants with more than one place, but aren't marked as chains - so i'll mark them as chain also. \n",
    "* <b> Chains with 1 place </b> - There are restaurants with 1 branch in LA but it doesn't mean they are not a chain - they may have branches in another states in US (like NY, Chicago..) so i left them as is."
   ]
  },
  {
   "cell_type": "code",
   "execution_count": 333,
   "metadata": {},
   "outputs": [
    {
     "data": {
      "text/plain": [
       "chain\n",
       "False    5972\n",
       "True     3676\n",
       "dtype: int64"
      ]
     },
     "execution_count": 333,
     "metadata": {},
     "output_type": "execute_result"
    }
   ],
   "source": [
    "# First look on 'chain'\n",
    "data[['chain']].value_counts()"
   ]
  },
  {
   "cell_type": "code",
   "execution_count": 334,
   "metadata": {},
   "outputs": [
    {
     "data": {
      "text/html": [
       "<div>\n",
       "<style scoped>\n",
       "    .dataframe tbody tr th:only-of-type {\n",
       "        vertical-align: middle;\n",
       "    }\n",
       "\n",
       "    .dataframe tbody tr th {\n",
       "        vertical-align: top;\n",
       "    }\n",
       "\n",
       "    .dataframe thead th {\n",
       "        text-align: right;\n",
       "    }\n",
       "</style>\n",
       "<table border=\"1\" class=\"dataframe\">\n",
       "  <thead>\n",
       "    <tr style=\"text-align: right;\">\n",
       "      <th></th>\n",
       "      <th>id</th>\n",
       "      <th>object_name</th>\n",
       "      <th>address</th>\n",
       "      <th>chain</th>\n",
       "      <th>object_type</th>\n",
       "      <th>seats</th>\n",
       "      <th>name_edited</th>\n",
       "      <th>num_of_objects</th>\n",
       "    </tr>\n",
       "  </thead>\n",
       "  <tbody>\n",
       "    <tr>\n",
       "      <th>7408</th>\n",
       "      <td>19194</td>\n",
       "      <td>taqueria los 3 carnales</td>\n",
       "      <td>5000 E WHITTIER BLVD</td>\n",
       "      <td>NaN</td>\n",
       "      <td>Restaurant</td>\n",
       "      <td>14</td>\n",
       "      <td>taqueria los carnales</td>\n",
       "      <td>1</td>\n",
       "    </tr>\n",
       "    <tr>\n",
       "      <th>7523</th>\n",
       "      <td>19309</td>\n",
       "      <td>jammin jimmy's pizza</td>\n",
       "      <td>1641 FIRESTONE BLVD</td>\n",
       "      <td>NaN</td>\n",
       "      <td>Pizza</td>\n",
       "      <td>1</td>\n",
       "      <td>jammin jimmy's pizza</td>\n",
       "      <td>1</td>\n",
       "    </tr>\n",
       "    <tr>\n",
       "      <th>8648</th>\n",
       "      <td>20434</td>\n",
       "      <td>the lexington theater</td>\n",
       "      <td>129 E 3RD ST</td>\n",
       "      <td>NaN</td>\n",
       "      <td>Restaurant</td>\n",
       "      <td>35</td>\n",
       "      <td>the lexington theater</td>\n",
       "      <td>1</td>\n",
       "    </tr>\n",
       "  </tbody>\n",
       "</table>\n",
       "</div>"
      ],
      "text/plain": [
       "         id              object_name               address chain object_type  \\\n",
       "7408  19194  taqueria los 3 carnales  5000 E WHITTIER BLVD   NaN  Restaurant   \n",
       "7523  19309     jammin jimmy's pizza   1641 FIRESTONE BLVD   NaN       Pizza   \n",
       "8648  20434    the lexington theater          129 E 3RD ST   NaN  Restaurant   \n",
       "\n",
       "      seats            name_edited  num_of_objects  \n",
       "7408     14  taqueria los carnales               1  \n",
       "7523      1   jammin jimmy's pizza               1  \n",
       "8648     35  the lexington theater               1  "
      ]
     },
     "execution_count": 334,
     "metadata": {},
     "output_type": "execute_result"
    }
   ],
   "source": [
    "# I check this objects in Google - they're not chains.\n",
    "data[data.chain.isnull()]"
   ]
  },
  {
   "cell_type": "code",
   "execution_count": 335,
   "metadata": {},
   "outputs": [],
   "source": [
    "# Filling empty 'chains' and converting to 'bool' type\n",
    "data.loc[data.chain.isnull(),'chain'] = False\n",
    "data.chain = data.chain.astype('bool')"
   ]
  },
  {
   "cell_type": "markdown",
   "metadata": {},
   "source": [
    "* <b> Unmarked chains </b> - We can see that there are 292 objects that have more than one place but are not marked as chain"
   ]
  },
  {
   "cell_type": "code",
   "execution_count": 336,
   "metadata": {},
   "outputs": [
    {
     "data": {
      "text/plain": [
       "292"
      ]
     },
     "execution_count": 336,
     "metadata": {},
     "output_type": "execute_result"
    }
   ],
   "source": [
    "len(data.query('num_of_objects > 1 and chain == False')['object_name'].drop_duplicates())"
   ]
  },
  {
   "cell_type": "code",
   "execution_count": 337,
   "metadata": {},
   "outputs": [],
   "source": [
    "# Switching these objects to chains\n",
    "data.loc[data['num_of_objects'] > 1, 'chain'] = True"
   ]
  },
  {
   "cell_type": "markdown",
   "metadata": {},
   "source": [
    "### Checking 'address' column -\n",
    "* <b> Same address to different restaurants </b> - There are addresses that appear more than once, but it's normal - this addresses are centers, with several restaurants."
   ]
  },
  {
   "cell_type": "code",
   "execution_count": 338,
   "metadata": {},
   "outputs": [
    {
     "data": {
      "text/html": [
       "<div>\n",
       "<style scoped>\n",
       "    .dataframe tbody tr th:only-of-type {\n",
       "        vertical-align: middle;\n",
       "    }\n",
       "\n",
       "    .dataframe tbody tr th {\n",
       "        vertical-align: top;\n",
       "    }\n",
       "\n",
       "    .dataframe thead th {\n",
       "        text-align: right;\n",
       "    }\n",
       "</style>\n",
       "<table border=\"1\" class=\"dataframe\">\n",
       "  <thead>\n",
       "    <tr style=\"text-align: right;\">\n",
       "      <th></th>\n",
       "      <th>address</th>\n",
       "    </tr>\n",
       "  </thead>\n",
       "  <tbody>\n",
       "    <tr>\n",
       "      <th>count</th>\n",
       "      <td>9651</td>\n",
       "    </tr>\n",
       "    <tr>\n",
       "      <th>unique</th>\n",
       "      <td>8517</td>\n",
       "    </tr>\n",
       "    <tr>\n",
       "      <th>top</th>\n",
       "      <td>3607 TROUSDALE PKWY</td>\n",
       "    </tr>\n",
       "    <tr>\n",
       "      <th>freq</th>\n",
       "      <td>11</td>\n",
       "    </tr>\n",
       "  </tbody>\n",
       "</table>\n",
       "</div>"
      ],
      "text/plain": [
       "                    address\n",
       "count                  9651\n",
       "unique                 8517\n",
       "top     3607 TROUSDALE PKWY\n",
       "freq                     11"
      ]
     },
     "execution_count": 338,
     "metadata": {},
     "output_type": "execute_result"
    }
   ],
   "source": [
    "# First look on 'address'\n",
    "data[['address']].describe()"
   ]
  },
  {
   "cell_type": "code",
   "execution_count": 339,
   "metadata": {},
   "outputs": [
    {
     "data": {
      "text/plain": [
       "0"
      ]
     },
     "execution_count": 339,
     "metadata": {},
     "output_type": "execute_result"
    }
   ],
   "source": [
    "# Checking for empty strings\n",
    "len(data[data.address.isin(['', ' '])])"
   ]
  },
  {
   "cell_type": "code",
   "execution_count": 340,
   "metadata": {},
   "outputs": [
    {
     "name": "stdout",
     "output_type": "stream",
     "text": [
      "count                    9651\n",
      "unique                   8513\n",
      "top       3607 trousdale pkwy\n",
      "freq                       11\n",
      "Name: address, dtype: object\n"
     ]
    }
   ],
   "source": [
    "# There is a slight difference with lowercase letters, so i'll switch the values to lowercase.\n",
    "print(data.address.str.lower().describe())\n",
    "data.address = data.address.str.lower()"
   ]
  },
  {
   "cell_type": "code",
   "execution_count": 341,
   "metadata": {},
   "outputs": [
    {
     "data": {
      "text/html": [
       "<div>\n",
       "<style scoped>\n",
       "    .dataframe tbody tr th:only-of-type {\n",
       "        vertical-align: middle;\n",
       "    }\n",
       "\n",
       "    .dataframe tbody tr th {\n",
       "        vertical-align: top;\n",
       "    }\n",
       "\n",
       "    .dataframe thead th {\n",
       "        text-align: right;\n",
       "    }\n",
       "</style>\n",
       "<table border=\"1\" class=\"dataframe\">\n",
       "  <thead>\n",
       "    <tr style=\"text-align: right;\">\n",
       "      <th></th>\n",
       "      <th>address</th>\n",
       "      <th>places</th>\n",
       "    </tr>\n",
       "  </thead>\n",
       "  <tbody>\n",
       "    <tr>\n",
       "      <th>0</th>\n",
       "      <td>3607 trousdale pkwy</td>\n",
       "      <td>11</td>\n",
       "    </tr>\n",
       "    <tr>\n",
       "      <th>1</th>\n",
       "      <td>135 n grand ave</td>\n",
       "      <td>10</td>\n",
       "    </tr>\n",
       "    <tr>\n",
       "      <th>2</th>\n",
       "      <td>400 world way</td>\n",
       "      <td>9</td>\n",
       "    </tr>\n",
       "    <tr>\n",
       "      <th>3</th>\n",
       "      <td>600 world way</td>\n",
       "      <td>9</td>\n",
       "    </tr>\n",
       "    <tr>\n",
       "      <th>4</th>\n",
       "      <td>5151 state university dr</td>\n",
       "      <td>9</td>\n",
       "    </tr>\n",
       "  </tbody>\n",
       "</table>\n",
       "</div>"
      ],
      "text/plain": [
       "                    address  places\n",
       "0       3607 trousdale pkwy      11\n",
       "1           135 n grand ave      10\n",
       "2             400 world way       9\n",
       "3             600 world way       9\n",
       "4  5151 state university dr       9"
      ]
     },
     "execution_count": 341,
     "metadata": {},
     "output_type": "execute_result"
    }
   ],
   "source": [
    "# I guess that adress that appears more than once is acutally a big center - \n",
    "data.groupby('address').agg({'id': 'count'}).sort_values(by='id', ascending=False\n",
    "                                                        ).reset_index().rename(columns={'id':'places'}).head()"
   ]
  },
  {
   "cell_type": "markdown",
   "metadata": {},
   "source": [
    "### Checking 'object_type' column -\n",
    "* <b> Most of the objects are restaurants (75%) </b> -  The second is fast food (11%) and the rest are cafe, pizza, bar and bakery.\n",
    "* <b> Convert the types to 'category' </b>\n",
    "* <b>  Chains with several types of restaurant </b> - It's a mistake, I switched for each case the appropriate type."
   ]
  },
  {
   "cell_type": "code",
   "execution_count": 342,
   "metadata": {},
   "outputs": [
    {
     "data": {
      "text/html": [
       "<div>\n",
       "<style scoped>\n",
       "    .dataframe tbody tr th:only-of-type {\n",
       "        vertical-align: middle;\n",
       "    }\n",
       "\n",
       "    .dataframe tbody tr th {\n",
       "        vertical-align: top;\n",
       "    }\n",
       "\n",
       "    .dataframe thead th {\n",
       "        text-align: right;\n",
       "    }\n",
       "</style>\n",
       "<table border=\"1\" class=\"dataframe\">\n",
       "  <thead>\n",
       "    <tr style=\"text-align: right;\">\n",
       "      <th></th>\n",
       "      <th>object_type</th>\n",
       "    </tr>\n",
       "  </thead>\n",
       "  <tbody>\n",
       "    <tr>\n",
       "      <th>count</th>\n",
       "      <td>9651</td>\n",
       "    </tr>\n",
       "    <tr>\n",
       "      <th>unique</th>\n",
       "      <td>6</td>\n",
       "    </tr>\n",
       "    <tr>\n",
       "      <th>top</th>\n",
       "      <td>Restaurant</td>\n",
       "    </tr>\n",
       "    <tr>\n",
       "      <th>freq</th>\n",
       "      <td>7255</td>\n",
       "    </tr>\n",
       "  </tbody>\n",
       "</table>\n",
       "</div>"
      ],
      "text/plain": [
       "       object_type\n",
       "count         9651\n",
       "unique           6\n",
       "top     Restaurant\n",
       "freq          7255"
      ]
     },
     "execution_count": 342,
     "metadata": {},
     "output_type": "execute_result"
    }
   ],
   "source": [
    "# First look on 'object_type'\n",
    "data[['object_type']].describe()"
   ]
  },
  {
   "cell_type": "code",
   "execution_count": 343,
   "metadata": {},
   "outputs": [
    {
     "data": {
      "text/plain": [
       "Restaurant    75.0\n",
       "Fast Food     11.0\n",
       "Cafe           5.0\n",
       "Pizza          3.0\n",
       "Bar            3.0\n",
       "Bakery         3.0\n",
       "Name: object_type, dtype: float64"
      ]
     },
     "execution_count": 343,
     "metadata": {},
     "output_type": "execute_result"
    }
   ],
   "source": [
    "# Showing percantage of each type\n",
    "round(data.object_type.value_counts() / len(data) * 100)"
   ]
  },
  {
   "cell_type": "code",
   "execution_count": 344,
   "metadata": {},
   "outputs": [],
   "source": [
    "# Switching the letters to lowercase\n",
    "data.object_type = data.object_type.str.lower()"
   ]
  },
  {
   "cell_type": "code",
   "execution_count": 345,
   "metadata": {},
   "outputs": [],
   "source": [
    "# Converting to 'catrgory' type\n",
    "data.object_type = data.object_type.astype('category')"
   ]
  },
  {
   "cell_type": "code",
   "execution_count": 346,
   "metadata": {},
   "outputs": [
    {
     "name": "stdout",
     "output_type": "stream",
     "text": [
      "Number of restaurants with different types: 7\n"
     ]
    }
   ],
   "source": [
    "# Checking for objects with more than one type - if it's chain, i'll switch to the best option\n",
    "object_types = data.groupby('name_edited').agg({'object_type': 'nunique'}).reset_index()\n",
    "many_object_types = object_types.query('object_type > 1')\n",
    "print('Number of restaurants with different types:', len(many_object_types))"
   ]
  },
  {
   "cell_type": "code",
   "execution_count": 347,
   "metadata": {},
   "outputs": [
    {
     "data": {
      "text/html": [
       "<div>\n",
       "<style scoped>\n",
       "    .dataframe tbody tr th:only-of-type {\n",
       "        vertical-align: middle;\n",
       "    }\n",
       "\n",
       "    .dataframe tbody tr th {\n",
       "        vertical-align: top;\n",
       "    }\n",
       "\n",
       "    .dataframe thead th {\n",
       "        text-align: right;\n",
       "    }\n",
       "</style>\n",
       "<table border=\"1\" class=\"dataframe\">\n",
       "  <thead>\n",
       "    <tr style=\"text-align: right;\">\n",
       "      <th></th>\n",
       "      <th>name_edited</th>\n",
       "      <th>object_type</th>\n",
       "    </tr>\n",
       "  </thead>\n",
       "  <tbody>\n",
       "    <tr>\n",
       "      <th>4415</th>\n",
       "      <td>mcdonald's</td>\n",
       "      <td>2</td>\n",
       "    </tr>\n",
       "    <tr>\n",
       "      <th>5623</th>\n",
       "      <td>ralphs market</td>\n",
       "      <td>2</td>\n",
       "    </tr>\n",
       "    <tr>\n",
       "      <th>6213</th>\n",
       "      <td>smart final</td>\n",
       "      <td>2</td>\n",
       "    </tr>\n",
       "    <tr>\n",
       "      <th>6320</th>\n",
       "      <td>sprouts farmers market</td>\n",
       "      <td>2</td>\n",
       "    </tr>\n",
       "    <tr>\n",
       "      <th>6695</th>\n",
       "      <td>target</td>\n",
       "      <td>2</td>\n",
       "    </tr>\n",
       "    <tr>\n",
       "      <th>7493</th>\n",
       "      <td>vons market</td>\n",
       "      <td>2</td>\n",
       "    </tr>\n",
       "    <tr>\n",
       "      <th>7584</th>\n",
       "      <td>whole foods market</td>\n",
       "      <td>2</td>\n",
       "    </tr>\n",
       "  </tbody>\n",
       "</table>\n",
       "</div>"
      ],
      "text/plain": [
       "                 name_edited  object_type\n",
       "4415              mcdonald's            2\n",
       "5623           ralphs market            2\n",
       "6213             smart final            2\n",
       "6320  sprouts farmers market            2\n",
       "6695                  target            2\n",
       "7493             vons market            2\n",
       "7584      whole foods market            2"
      ]
     },
     "execution_count": 347,
     "metadata": {},
     "output_type": "execute_result"
    }
   ],
   "source": [
    "many_object_types"
   ]
  },
  {
   "cell_type": "code",
   "execution_count": 348,
   "metadata": {},
   "outputs": [
    {
     "data": {
      "text/html": [
       "<div>\n",
       "<style scoped>\n",
       "    .dataframe tbody tr th:only-of-type {\n",
       "        vertical-align: middle;\n",
       "    }\n",
       "\n",
       "    .dataframe tbody tr th {\n",
       "        vertical-align: top;\n",
       "    }\n",
       "\n",
       "    .dataframe thead th {\n",
       "        text-align: right;\n",
       "    }\n",
       "</style>\n",
       "<table border=\"1\" class=\"dataframe\">\n",
       "  <thead>\n",
       "    <tr style=\"text-align: right;\">\n",
       "      <th>object_type</th>\n",
       "      <th>cafe</th>\n",
       "      <th>fast food</th>\n",
       "      <th>restaurant</th>\n",
       "    </tr>\n",
       "    <tr>\n",
       "      <th>name_edited</th>\n",
       "      <th></th>\n",
       "      <th></th>\n",
       "      <th></th>\n",
       "    </tr>\n",
       "  </thead>\n",
       "  <tbody>\n",
       "    <tr>\n",
       "      <th>mcdonald's</th>\n",
       "      <td>0.0</td>\n",
       "      <td>59.0</td>\n",
       "      <td>21.0</td>\n",
       "    </tr>\n",
       "    <tr>\n",
       "      <th>ralphs market</th>\n",
       "      <td>4.0</td>\n",
       "      <td>0.0</td>\n",
       "      <td>17.0</td>\n",
       "    </tr>\n",
       "    <tr>\n",
       "      <th>smart final</th>\n",
       "      <td>1.0</td>\n",
       "      <td>0.0</td>\n",
       "      <td>1.0</td>\n",
       "    </tr>\n",
       "    <tr>\n",
       "      <th>sprouts farmers market</th>\n",
       "      <td>1.0</td>\n",
       "      <td>0.0</td>\n",
       "      <td>2.0</td>\n",
       "    </tr>\n",
       "    <tr>\n",
       "      <th>target</th>\n",
       "      <td>2.0</td>\n",
       "      <td>0.0</td>\n",
       "      <td>1.0</td>\n",
       "    </tr>\n",
       "    <tr>\n",
       "      <th>vons market</th>\n",
       "      <td>1.0</td>\n",
       "      <td>0.0</td>\n",
       "      <td>7.0</td>\n",
       "    </tr>\n",
       "    <tr>\n",
       "      <th>whole foods market</th>\n",
       "      <td>1.0</td>\n",
       "      <td>0.0</td>\n",
       "      <td>5.0</td>\n",
       "    </tr>\n",
       "  </tbody>\n",
       "</table>\n",
       "</div>"
      ],
      "text/plain": [
       "object_type             cafe  fast food  restaurant\n",
       "name_edited                                        \n",
       "mcdonald's               0.0       59.0        21.0\n",
       "ralphs market            4.0        0.0        17.0\n",
       "smart final              1.0        0.0         1.0\n",
       "sprouts farmers market   1.0        0.0         2.0\n",
       "target                   2.0        0.0         1.0\n",
       "vons market              1.0        0.0         7.0\n",
       "whole foods market       1.0        0.0         5.0"
      ]
     },
     "execution_count": 348,
     "metadata": {},
     "output_type": "execute_result"
    }
   ],
   "source": [
    "# Checking for the best type for this restaurants.\n",
    "many_object_types_pivot = data.query(\n",
    "    'name_edited in @many_object_types.name_edited').pivot_table(\n",
    "    index='name_edited', columns='object_type', values='id', aggfunc='count').fillna(0)\n",
    "\n",
    "many_object_types_pivot"
   ]
  },
  {
   "cell_type": "code",
   "execution_count": 349,
   "metadata": {},
   "outputs": [
    {
     "data": {
      "text/html": [
       "<div>\n",
       "<style scoped>\n",
       "    .dataframe tbody tr th:only-of-type {\n",
       "        vertical-align: middle;\n",
       "    }\n",
       "\n",
       "    .dataframe tbody tr th {\n",
       "        vertical-align: top;\n",
       "    }\n",
       "\n",
       "    .dataframe thead th {\n",
       "        text-align: right;\n",
       "    }\n",
       "</style>\n",
       "<table border=\"1\" class=\"dataframe\">\n",
       "  <thead>\n",
       "    <tr style=\"text-align: right;\">\n",
       "      <th>object_type</th>\n",
       "      <th>cafe</th>\n",
       "      <th>fast food</th>\n",
       "      <th>restaurant</th>\n",
       "    </tr>\n",
       "    <tr>\n",
       "      <th>name_edited</th>\n",
       "      <th></th>\n",
       "      <th></th>\n",
       "      <th></th>\n",
       "    </tr>\n",
       "  </thead>\n",
       "  <tbody>\n",
       "    <tr>\n",
       "      <th>mcdonald's</th>\n",
       "      <td>0.0</td>\n",
       "      <td>80.0</td>\n",
       "      <td>0.0</td>\n",
       "    </tr>\n",
       "    <tr>\n",
       "      <th>ralphs market</th>\n",
       "      <td>0.0</td>\n",
       "      <td>0.0</td>\n",
       "      <td>21.0</td>\n",
       "    </tr>\n",
       "    <tr>\n",
       "      <th>smart final</th>\n",
       "      <td>0.0</td>\n",
       "      <td>0.0</td>\n",
       "      <td>2.0</td>\n",
       "    </tr>\n",
       "    <tr>\n",
       "      <th>sprouts farmers market</th>\n",
       "      <td>0.0</td>\n",
       "      <td>0.0</td>\n",
       "      <td>3.0</td>\n",
       "    </tr>\n",
       "    <tr>\n",
       "      <th>target</th>\n",
       "      <td>3.0</td>\n",
       "      <td>0.0</td>\n",
       "      <td>0.0</td>\n",
       "    </tr>\n",
       "    <tr>\n",
       "      <th>vons market</th>\n",
       "      <td>0.0</td>\n",
       "      <td>0.0</td>\n",
       "      <td>8.0</td>\n",
       "    </tr>\n",
       "    <tr>\n",
       "      <th>whole foods market</th>\n",
       "      <td>0.0</td>\n",
       "      <td>0.0</td>\n",
       "      <td>6.0</td>\n",
       "    </tr>\n",
       "  </tbody>\n",
       "</table>\n",
       "</div>"
      ],
      "text/plain": [
       "object_type             cafe  fast food  restaurant\n",
       "name_edited                                        \n",
       "mcdonald's               0.0       80.0         0.0\n",
       "ralphs market            0.0        0.0        21.0\n",
       "smart final              0.0        0.0         2.0\n",
       "sprouts farmers market   0.0        0.0         3.0\n",
       "target                   3.0        0.0         0.0\n",
       "vons market              0.0        0.0         8.0\n",
       "whole foods market       0.0        0.0         6.0"
      ]
     },
     "execution_count": 349,
     "metadata": {},
     "output_type": "execute_result"
    }
   ],
   "source": [
    "# Fast food\n",
    "data.loc[data.name_edited == \"mcdonald's\",'object_type'] = \"fast food\"\n",
    "\n",
    "# Cafe\n",
    "data.loc[data.name_edited ==\"target\",'object_type'] = \"cafe\"\n",
    "\n",
    "# Restaurants\n",
    "data.loc[data.name_edited.isin(['ralphs market',\n",
    "                                'smart final',\n",
    "                                'sprouts farmers market',\n",
    "                                'vons market',\n",
    "                                'whole foods market'\n",
    "                                ]),'object_type'] = \"restaurant\"\n",
    "\n",
    "# Check it's done\n",
    "many_object_types_pivot = data.query(\n",
    "    'name_edited in @many_object_types.name_edited').pivot_table(\n",
    "    index='name_edited', columns='object_type', values='id', aggfunc='count').fillna(0)\n",
    "many_object_types_pivot"
   ]
  },
  {
   "cell_type": "markdown",
   "metadata": {},
   "source": [
    "### Checking 'seats' column - \n",
    "* <b> Distribution </b> - 75% of objects have 46 seats or less, but the mean is 47 - because there are lots of outliers!"
   ]
  },
  {
   "cell_type": "code",
   "execution_count": 350,
   "metadata": {},
   "outputs": [
    {
     "data": {
      "text/html": [
       "<div>\n",
       "<style scoped>\n",
       "    .dataframe tbody tr th:only-of-type {\n",
       "        vertical-align: middle;\n",
       "    }\n",
       "\n",
       "    .dataframe tbody tr th {\n",
       "        vertical-align: top;\n",
       "    }\n",
       "\n",
       "    .dataframe thead th {\n",
       "        text-align: right;\n",
       "    }\n",
       "</style>\n",
       "<table border=\"1\" class=\"dataframe\">\n",
       "  <thead>\n",
       "    <tr style=\"text-align: right;\">\n",
       "      <th></th>\n",
       "      <th>seats</th>\n",
       "    </tr>\n",
       "  </thead>\n",
       "  <tbody>\n",
       "    <tr>\n",
       "      <th>count</th>\n",
       "      <td>9651.000000</td>\n",
       "    </tr>\n",
       "    <tr>\n",
       "      <th>mean</th>\n",
       "      <td>43.695161</td>\n",
       "    </tr>\n",
       "    <tr>\n",
       "      <th>std</th>\n",
       "      <td>47.622874</td>\n",
       "    </tr>\n",
       "    <tr>\n",
       "      <th>min</th>\n",
       "      <td>1.000000</td>\n",
       "    </tr>\n",
       "    <tr>\n",
       "      <th>25%</th>\n",
       "      <td>14.000000</td>\n",
       "    </tr>\n",
       "    <tr>\n",
       "      <th>50%</th>\n",
       "      <td>27.000000</td>\n",
       "    </tr>\n",
       "    <tr>\n",
       "      <th>75%</th>\n",
       "      <td>46.000000</td>\n",
       "    </tr>\n",
       "    <tr>\n",
       "      <th>max</th>\n",
       "      <td>229.000000</td>\n",
       "    </tr>\n",
       "  </tbody>\n",
       "</table>\n",
       "</div>"
      ],
      "text/plain": [
       "             seats\n",
       "count  9651.000000\n",
       "mean     43.695161\n",
       "std      47.622874\n",
       "min       1.000000\n",
       "25%      14.000000\n",
       "50%      27.000000\n",
       "75%      46.000000\n",
       "max     229.000000"
      ]
     },
     "execution_count": 350,
     "metadata": {},
     "output_type": "execute_result"
    }
   ],
   "source": [
    "# First look on 'number' column \n",
    "data[['seats']].describe()"
   ]
  },
  {
   "cell_type": "code",
   "execution_count": 351,
   "metadata": {},
   "outputs": [
    {
     "data": {
      "image/png": "[encoded data removed]",
      "text/plain": [
       "<Figure size 432x288 with 1 Axes>"
      ]
     },
     "metadata": {
      "needs_background": "light"
     },
     "output_type": "display_data"
    },
    {
     "data": {
      "image/png": "[encoded data removed]",
      "text/plain": [
       "<Figure size 432x288 with 1 Axes>"
      ]
     },
     "metadata": {
      "needs_background": "light"
     },
     "output_type": "display_data"
    }
   ],
   "source": [
    "ax = data.seats.hist(bins=20)\n",
    "plt.title('Distribution of Seats Per Object')\n",
    "plt.xlabel('Number of Seats')\n",
    "plt.ylabel('Distribution')\n",
    "plt.show()\n",
    "\n",
    "sns.boxplot(y='seats', data=data)\n",
    "plt.title('Distribution of Seats Per Object')\n",
    "plt.ylabel('Number of Seats')\n",
    "plt.show()"
   ]
  },
  {
   "cell_type": "markdown",
   "metadata": {},
   "source": [
    "### Checking for duplicates"
   ]
  },
  {
   "cell_type": "code",
   "execution_count": 352,
   "metadata": {},
   "outputs": [
    {
     "data": {
      "text/plain": [
       "0"
      ]
     },
     "execution_count": 352,
     "metadata": {},
     "output_type": "execute_result"
    }
   ],
   "source": [
    "# No duplicates\n",
    "data.duplicated().sum()"
   ]
  },
  {
   "cell_type": "markdown",
   "metadata": {},
   "source": [
    "# <a id=\"second_step\"> Step 2 - answer key questions</a> "
   ]
  },
  {
   "cell_type": "markdown",
   "metadata": {},
   "source": [
    "## Q1 - Investigate the proportions of the various types of establishments"
   ]
  },
  {
   "cell_type": "code",
   "execution_count": 353,
   "metadata": {},
   "outputs": [
    {
     "data": {
      "text/html": [
       "<div>\n",
       "<style scoped>\n",
       "    .dataframe tbody tr th:only-of-type {\n",
       "        vertical-align: middle;\n",
       "    }\n",
       "\n",
       "    .dataframe tbody tr th {\n",
       "        vertical-align: top;\n",
       "    }\n",
       "\n",
       "    .dataframe thead th {\n",
       "        text-align: right;\n",
       "    }\n",
       "</style>\n",
       "<table border=\"1\" class=\"dataframe\">\n",
       "  <thead>\n",
       "    <tr style=\"text-align: right;\">\n",
       "      <th></th>\n",
       "      <th>object_type</th>\n",
       "      <th>amount</th>\n",
       "      <th>percentage</th>\n",
       "    </tr>\n",
       "  </thead>\n",
       "  <tbody>\n",
       "    <tr>\n",
       "      <th>0</th>\n",
       "      <td>bakery</td>\n",
       "      <td>283</td>\n",
       "      <td>3.0</td>\n",
       "    </tr>\n",
       "    <tr>\n",
       "      <th>1</th>\n",
       "      <td>bar</td>\n",
       "      <td>292</td>\n",
       "      <td>3.0</td>\n",
       "    </tr>\n",
       "    <tr>\n",
       "      <th>4</th>\n",
       "      <td>pizza</td>\n",
       "      <td>320</td>\n",
       "      <td>3.0</td>\n",
       "    </tr>\n",
       "    <tr>\n",
       "      <th>2</th>\n",
       "      <td>cafe</td>\n",
       "      <td>428</td>\n",
       "      <td>4.0</td>\n",
       "    </tr>\n",
       "    <tr>\n",
       "      <th>3</th>\n",
       "      <td>fast food</td>\n",
       "      <td>1087</td>\n",
       "      <td>11.0</td>\n",
       "    </tr>\n",
       "    <tr>\n",
       "      <th>5</th>\n",
       "      <td>restaurant</td>\n",
       "      <td>7241</td>\n",
       "      <td>75.0</td>\n",
       "    </tr>\n",
       "  </tbody>\n",
       "</table>\n",
       "</div>"
      ],
      "text/plain": [
       "  object_type  amount  percentage\n",
       "0      bakery     283         3.0\n",
       "1         bar     292         3.0\n",
       "4       pizza     320         3.0\n",
       "2        cafe     428         4.0\n",
       "3   fast food    1087        11.0\n",
       "5  restaurant    7241        75.0"
      ]
     },
     "execution_count": 353,
     "metadata": {},
     "output_type": "execute_result"
    }
   ],
   "source": [
    "# Getting amount of each object type\n",
    "object_types = data.groupby('object_type').agg({'id': 'count'}).reset_index().sort_values(by='id')\n",
    "object_types.columns = ['object_type', 'amount']\n",
    "object_types['percentage'] = np.round(object_types.amount / object_types.amount.sum() * 100)\n",
    "object_types"
   ]
  },
  {
   "cell_type": "code",
   "execution_count": 354,
   "metadata": {},
   "outputs": [
    {
     "data": {
      "image/png": "[encoded data removed]",
      "text/plain": [
       "<Figure size 432x288 with 1 Axes>"
      ]
     },
     "metadata": {},
     "output_type": "display_data"
    },
    {
     "data": {
      "image/png": "[encoded data removed]",
      "text/plain": [
       "<Figure size 864x432 with 1 Axes>"
      ]
     },
     "metadata": {},
     "output_type": "display_data"
    }
   ],
   "source": [
    "# Showing the amount & percentage of each object by bar\n",
    "with plt.style.context('ggplot'):\n",
    "    # Bar plot\n",
    "    plt.bar(object_types.object_type, object_types.amount)\n",
    "    plt.title('Distribution of Restaurants Per Type', fontsize=25)\n",
    "    plt.xlabel('Object Type')\n",
    "    plt.ylabel('Number of Objects')\n",
    "    plt.show() \n",
    "    # Pie chasrt\n",
    "    plt.subplots(figsize=(12, 6))\n",
    "    plt.pie(object_types.percentage, labels=object_types.object_type, autopct='%1.1f%%')\n",
    "    plt.title('Pie Chart Of Restaurant Types', fontsize=25)\n",
    "    plt.show()"
   ]
  },
  {
   "cell_type": "markdown",
   "metadata": {},
   "source": [
    "## Q2 - Investigate the proportions of chain and nonchain establishments"
   ]
  },
  {
   "cell_type": "code",
   "execution_count": 355,
   "metadata": {},
   "outputs": [
    {
     "data": {
      "text/html": [
       "<div>\n",
       "<style scoped>\n",
       "    .dataframe tbody tr th:only-of-type {\n",
       "        vertical-align: middle;\n",
       "    }\n",
       "\n",
       "    .dataframe tbody tr th {\n",
       "        vertical-align: top;\n",
       "    }\n",
       "\n",
       "    .dataframe thead th {\n",
       "        text-align: right;\n",
       "    }\n",
       "</style>\n",
       "<table border=\"1\" class=\"dataframe\">\n",
       "  <thead>\n",
       "    <tr style=\"text-align: right;\">\n",
       "      <th></th>\n",
       "      <th>chain</th>\n",
       "      <th>amount</th>\n",
       "      <th>percentage</th>\n",
       "    </tr>\n",
       "  </thead>\n",
       "  <tbody>\n",
       "    <tr>\n",
       "      <th>1</th>\n",
       "      <td>Chains</td>\n",
       "      <td>3997</td>\n",
       "      <td>41.0</td>\n",
       "    </tr>\n",
       "    <tr>\n",
       "      <th>0</th>\n",
       "      <td>Not Chains</td>\n",
       "      <td>5654</td>\n",
       "      <td>59.0</td>\n",
       "    </tr>\n",
       "  </tbody>\n",
       "</table>\n",
       "</div>"
      ],
      "text/plain": [
       "        chain  amount  percentage\n",
       "1      Chains    3997        41.0\n",
       "0  Not Chains    5654        59.0"
      ]
     },
     "execution_count": 355,
     "metadata": {},
     "output_type": "execute_result"
    }
   ],
   "source": [
    "# Calculate number of chains\n",
    "chains = data.groupby('chain').agg({'id': 'count'}).reset_index().sort_values(by='id').rename(columns=({'id': 'amount'}))\n",
    "chains.chain = chains.chain.replace(True, 'Chains' )\n",
    "chains.chain = chains.chain.replace(False, 'Not Chains' )\n",
    "chains['percentage'] = np.round(chains.amount / chains.amount.sum() * 100)\n",
    "chains"
   ]
  },
  {
   "cell_type": "code",
   "execution_count": 356,
   "metadata": {},
   "outputs": [
    {
     "data": {
      "image/png": "[encoded data removed]",
      "text/plain": [
       "<Figure size 864x432 with 1 Axes>"
      ]
     },
     "metadata": {},
     "output_type": "display_data"
    }
   ],
   "source": [
    "with plt.style.context('seaborn-pastel'):\n",
    "    plt.subplots(figsize=(12, 6))\n",
    "    plt.pie(chains.amount, labels=chains.chain, autopct='%1.1f%%')\n",
    "    plt.title('Pie Chart Of Chains', fontsize=25)\n",
    "    plt.show()"
   ]
  },
  {
   "cell_type": "markdown",
   "metadata": {},
   "source": [
    "## Q3 - Which type of establishment is typically a chain?"
   ]
  },
  {
   "cell_type": "code",
   "execution_count": 357,
   "metadata": {},
   "outputs": [
    {
     "data": {
      "text/html": [
       "<div>\n",
       "<style scoped>\n",
       "    .dataframe tbody tr th:only-of-type {\n",
       "        vertical-align: middle;\n",
       "    }\n",
       "\n",
       "    .dataframe tbody tr th {\n",
       "        vertical-align: top;\n",
       "    }\n",
       "\n",
       "    .dataframe thead th {\n",
       "        text-align: right;\n",
       "    }\n",
       "</style>\n",
       "<table border=\"1\" class=\"dataframe\">\n",
       "  <thead>\n",
       "    <tr style=\"text-align: right;\">\n",
       "      <th></th>\n",
       "      <th>object_type</th>\n",
       "      <th>chain</th>\n",
       "      <th>amount</th>\n",
       "      <th>perc_per_type</th>\n",
       "    </tr>\n",
       "  </thead>\n",
       "  <tbody>\n",
       "    <tr>\n",
       "      <th>0</th>\n",
       "      <td>bakery</td>\n",
       "      <td>False</td>\n",
       "      <td>0</td>\n",
       "      <td>0.0</td>\n",
       "    </tr>\n",
       "    <tr>\n",
       "      <th>1</th>\n",
       "      <td>bakery</td>\n",
       "      <td>True</td>\n",
       "      <td>283</td>\n",
       "      <td>100.0</td>\n",
       "    </tr>\n",
       "    <tr>\n",
       "      <th>2</th>\n",
       "      <td>bar</td>\n",
       "      <td>False</td>\n",
       "      <td>207</td>\n",
       "      <td>71.0</td>\n",
       "    </tr>\n",
       "    <tr>\n",
       "      <th>3</th>\n",
       "      <td>bar</td>\n",
       "      <td>True</td>\n",
       "      <td>85</td>\n",
       "      <td>29.0</td>\n",
       "    </tr>\n",
       "    <tr>\n",
       "      <th>4</th>\n",
       "      <td>cafe</td>\n",
       "      <td>False</td>\n",
       "      <td>150</td>\n",
       "      <td>35.0</td>\n",
       "    </tr>\n",
       "    <tr>\n",
       "      <th>5</th>\n",
       "      <td>cafe</td>\n",
       "      <td>True</td>\n",
       "      <td>278</td>\n",
       "      <td>65.0</td>\n",
       "    </tr>\n",
       "    <tr>\n",
       "      <th>6</th>\n",
       "      <td>fast food</td>\n",
       "      <td>False</td>\n",
       "      <td>403</td>\n",
       "      <td>37.0</td>\n",
       "    </tr>\n",
       "    <tr>\n",
       "      <th>7</th>\n",
       "      <td>fast food</td>\n",
       "      <td>True</td>\n",
       "      <td>684</td>\n",
       "      <td>63.0</td>\n",
       "    </tr>\n",
       "    <tr>\n",
       "      <th>8</th>\n",
       "      <td>pizza</td>\n",
       "      <td>False</td>\n",
       "      <td>146</td>\n",
       "      <td>46.0</td>\n",
       "    </tr>\n",
       "    <tr>\n",
       "      <th>9</th>\n",
       "      <td>pizza</td>\n",
       "      <td>True</td>\n",
       "      <td>174</td>\n",
       "      <td>54.0</td>\n",
       "    </tr>\n",
       "    <tr>\n",
       "      <th>10</th>\n",
       "      <td>restaurant</td>\n",
       "      <td>False</td>\n",
       "      <td>4748</td>\n",
       "      <td>66.0</td>\n",
       "    </tr>\n",
       "    <tr>\n",
       "      <th>11</th>\n",
       "      <td>restaurant</td>\n",
       "      <td>True</td>\n",
       "      <td>2493</td>\n",
       "      <td>34.0</td>\n",
       "    </tr>\n",
       "  </tbody>\n",
       "</table>\n",
       "</div>"
      ],
      "text/plain": [
       "   object_type  chain  amount  perc_per_type\n",
       "0       bakery  False       0            0.0\n",
       "1       bakery   True     283          100.0\n",
       "2          bar  False     207           71.0\n",
       "3          bar   True      85           29.0\n",
       "4         cafe  False     150           35.0\n",
       "5         cafe   True     278           65.0\n",
       "6    fast food  False     403           37.0\n",
       "7    fast food   True     684           63.0\n",
       "8        pizza  False     146           46.0\n",
       "9        pizza   True     174           54.0\n",
       "10  restaurant  False    4748           66.0\n",
       "11  restaurant   True    2493           34.0"
      ]
     },
     "execution_count": 357,
     "metadata": {},
     "output_type": "execute_result"
    }
   ],
   "source": [
    "# Calculate number of objects per type and chain\n",
    "chain_per_type = data.groupby(['object_type', 'chain']).agg({'id' : 'count'}).reset_index()\n",
    "chain_per_type.columns = ['object_type', 'chain', 'amount']\n",
    "chain_per_type['perc_per_type'] = np.round(chain_per_type.apply(\n",
    "    lambda x: (x.amount / chain_per_type[chain_per_type.object_type\n",
    "                                         == x.object_type].amount.sum()), axis=1) * 100)\n",
    "chain_per_type"
   ]
  },
  {
   "cell_type": "code",
   "execution_count": 358,
   "metadata": {},
   "outputs": [
    {
     "data": {
      "image/png": "[encoded data removed]",
      "text/plain": [
       "<Figure size 864x432 with 1 Axes>"
      ]
     },
     "metadata": {
      "needs_background": "light"
     },
     "output_type": "display_data"
    }
   ],
   "source": [
    "plt.subplots(figsize=(12, 6))\n",
    "ax = sns.barplot(x='object_type', y='perc_per_type', data=chain_per_type,\n",
    "                 hue='chain', palette='deep')\n",
    "plt.title('Distribution of Restaurants Types to Chains, by Percents', fontsize=25)\n",
    "plt.xlabel('Object Type', fontsize=20)\n",
    "plt.ylabel('% of Objects for Each Type', fontsize=20)\n",
    "plt.show()"
   ]
  },
  {
   "cell_type": "markdown",
   "metadata": {},
   "source": [
    "### We can see that  bakeries have only chains!\n",
    "- In addition, most of coffee shops (more than 60%) are chains.\n",
    "- From the other hand, most of bars and restaurants aren't chains.\n"
   ]
  },
  {
   "cell_type": "markdown",
   "metadata": {},
   "source": [
    "## Q4 - What characterizes chains: many establishments with a small number of seats or a few establishments with a lot of seats?"
   ]
  },
  {
   "cell_type": "code",
   "execution_count": 359,
   "metadata": {},
   "outputs": [
    {
     "data": {
      "image/png": "[encoded data removed]",
      "text/plain": [
       "<Figure size 648x432 with 1 Axes>"
      ]
     },
     "metadata": {
      "needs_background": "light"
     },
     "output_type": "display_data"
    }
   ],
   "source": [
    "chain_data = data.query('chain == True')\n",
    "plt.subplots(figsize=(9, 6))\n",
    "plt.scatter(x=pd.Series(range(0, len(chain_data))), y='seats', data=chain_data, color='blue')\n",
    "plt.title('Distribution of Seats In Chains', fontsize=20)\n",
    "plt.xlabel('Number of Objects', fontsize=15)\n",
    "plt.ylabel('Number of Seats', fontsize=15)\n",
    "plt.show()"
   ]
  },
  {
   "cell_type": "code",
   "execution_count": 360,
   "metadata": {},
   "outputs": [
    {
     "name": "stdout",
     "output_type": "stream",
     "text": [
      "Number of establishments with 50 seats maximum in their place: 3294\n",
      "Number of establishments with 50 seats at least in their place: 703\n"
     ]
    }
   ],
   "source": [
    "print('Number of establishments with 50 seats maximum in their place:',\n",
    "      len(chain_data.query('seats <= 50')))\n",
    "print('Number of establishments with 50 seats at least in their place:',\n",
    "      len(chain_data.query('seats > 50')))"
   ]
  },
  {
   "cell_type": "markdown",
   "metadata": {},
   "source": [
    "### We can clearly see that this idea happens at the same time -  while there are many establishments with a small number of seats, there are few establishments with lots of seats!"
   ]
  },
  {
   "cell_type": "markdown",
   "metadata": {},
   "source": [
    "## Q5 - Determine the average number of seats for each type of restaurant. On average, which type of restaurant has the greatest number of seats?"
   ]
  },
  {
   "cell_type": "code",
   "execution_count": 361,
   "metadata": {},
   "outputs": [
    {
     "data": {
      "text/html": [
       "<div>\n",
       "<style scoped>\n",
       "    .dataframe tbody tr th:only-of-type {\n",
       "        vertical-align: middle;\n",
       "    }\n",
       "\n",
       "    .dataframe tbody tr th {\n",
       "        vertical-align: top;\n",
       "    }\n",
       "\n",
       "    .dataframe thead th {\n",
       "        text-align: right;\n",
       "    }\n",
       "</style>\n",
       "<table border=\"1\" class=\"dataframe\">\n",
       "  <thead>\n",
       "    <tr style=\"text-align: right;\">\n",
       "      <th></th>\n",
       "      <th>object_type</th>\n",
       "      <th>avg_seats_num</th>\n",
       "    </tr>\n",
       "  </thead>\n",
       "  <tbody>\n",
       "    <tr>\n",
       "      <th>0</th>\n",
       "      <td>bakery</td>\n",
       "      <td>22.0</td>\n",
       "    </tr>\n",
       "    <tr>\n",
       "      <th>2</th>\n",
       "      <td>cafe</td>\n",
       "      <td>25.0</td>\n",
       "    </tr>\n",
       "    <tr>\n",
       "      <th>4</th>\n",
       "      <td>pizza</td>\n",
       "      <td>28.0</td>\n",
       "    </tr>\n",
       "    <tr>\n",
       "      <th>3</th>\n",
       "      <td>fast food</td>\n",
       "      <td>33.0</td>\n",
       "    </tr>\n",
       "    <tr>\n",
       "      <th>1</th>\n",
       "      <td>bar</td>\n",
       "      <td>45.0</td>\n",
       "    </tr>\n",
       "    <tr>\n",
       "      <th>5</th>\n",
       "      <td>restaurant</td>\n",
       "      <td>48.0</td>\n",
       "    </tr>\n",
       "  </tbody>\n",
       "</table>\n",
       "</div>"
      ],
      "text/plain": [
       "  object_type  avg_seats_num\n",
       "0      bakery           22.0\n",
       "2        cafe           25.0\n",
       "4       pizza           28.0\n",
       "3   fast food           33.0\n",
       "1         bar           45.0\n",
       "5  restaurant           48.0"
      ]
     },
     "execution_count": 361,
     "metadata": {},
     "output_type": "execute_result"
    }
   ],
   "source": [
    "# Calculating average number of seats per type\n",
    "avg_seats = data.groupby('object_type').agg({'seats'\n",
    "                                             : 'mean'}).reset_index().sort_values(by='seats')\n",
    "avg_seats.columns = ['object_type', 'avg_seats_num']\n",
    "avg_seats.avg_seats_num = np.round(avg_seats.avg_seats_num)\n",
    "avg_seats"
   ]
  },
  {
   "cell_type": "code",
   "execution_count": 362,
   "metadata": {},
   "outputs": [
    {
     "data": {
      "image/png": "[encoded data removed]",
      "text/plain": [
       "<Figure size 864x432 with 1 Axes>"
      ]
     },
     "metadata": {
      "needs_background": "light"
     },
     "output_type": "display_data"
    }
   ],
   "source": [
    "fig, ax = plt.subplots(figsize=(12, 6))\n",
    "ax.vlines(x=avg_seats.object_type, ymin=0, ymax=avg_seats.avg_seats_num,\n",
    "          color='purple', alpha=0.7, linewidth=5)\n",
    "ax.scatter(x=avg_seats.object_type, y=avg_seats.avg_seats_num, s=75, \n",
    "           color='black', alpha=0.7)\n",
    "ax.set_title('Lollipop Chart for Average Number Of Seats Per Restaurant', fontsize=15)\n",
    "ax.set_ylabel('Average Number Of Seats', fontsize=15)\n",
    "ax.set_xlabel('Restaurant Types', fontsize=15)\n",
    "for row in avg_seats.itertuples():\n",
    "    ax.text(row.object_type, row.avg_seats_num + 1, s=int(round(row.avg_seats_num, 2)),\n",
    "            fontdict={'horizontalalignment': 'center', 'size': 8})"
   ]
  },
  {
   "cell_type": "markdown",
   "metadata": {},
   "source": [
    "### Restaurants (48) and bars (44) have the greatest number of seats!"
   ]
  },
  {
   "cell_type": "markdown",
   "metadata": {},
   "source": [
    "## Q6 - Put the data on street names from the address column in a separate column "
   ]
  },
  {
   "cell_type": "code",
   "execution_count": 363,
   "metadata": {},
   "outputs": [
    {
     "data": {
      "text/html": [
       "<div>\n",
       "<style scoped>\n",
       "    .dataframe tbody tr th:only-of-type {\n",
       "        vertical-align: middle;\n",
       "    }\n",
       "\n",
       "    .dataframe tbody tr th {\n",
       "        vertical-align: top;\n",
       "    }\n",
       "\n",
       "    .dataframe thead th {\n",
       "        text-align: right;\n",
       "    }\n",
       "</style>\n",
       "<table border=\"1\" class=\"dataframe\">\n",
       "  <thead>\n",
       "    <tr style=\"text-align: right;\">\n",
       "      <th></th>\n",
       "      <th>id</th>\n",
       "      <th>object_name</th>\n",
       "      <th>address</th>\n",
       "      <th>chain</th>\n",
       "      <th>object_type</th>\n",
       "      <th>seats</th>\n",
       "      <th>name_edited</th>\n",
       "      <th>num_of_objects</th>\n",
       "      <th>street</th>\n",
       "    </tr>\n",
       "  </thead>\n",
       "  <tbody>\n",
       "    <tr>\n",
       "      <th>0</th>\n",
       "      <td>11786</td>\n",
       "      <td>habitat coffee shop</td>\n",
       "      <td>3708 n eagle rock blvd</td>\n",
       "      <td>False</td>\n",
       "      <td>cafe</td>\n",
       "      <td>26</td>\n",
       "      <td>habitat coffee shop</td>\n",
       "      <td>1</td>\n",
       "      <td>eagle rock</td>\n",
       "    </tr>\n",
       "    <tr>\n",
       "      <th>1</th>\n",
       "      <td>11787</td>\n",
       "      <td>reilly's</td>\n",
       "      <td>100 world way # 120</td>\n",
       "      <td>False</td>\n",
       "      <td>restaurant</td>\n",
       "      <td>9</td>\n",
       "      <td>reilly's</td>\n",
       "      <td>1</td>\n",
       "      <td>world</td>\n",
       "    </tr>\n",
       "    <tr>\n",
       "      <th>2</th>\n",
       "      <td>11788</td>\n",
       "      <td>street churros</td>\n",
       "      <td>6801 hollywood blvd # 253</td>\n",
       "      <td>False</td>\n",
       "      <td>fast food</td>\n",
       "      <td>20</td>\n",
       "      <td>street churros</td>\n",
       "      <td>1</td>\n",
       "      <td>hollywood</td>\n",
       "    </tr>\n",
       "    <tr>\n",
       "      <th>3</th>\n",
       "      <td>11789</td>\n",
       "      <td>triniti echo park</td>\n",
       "      <td>1814 w sunset blvd</td>\n",
       "      <td>False</td>\n",
       "      <td>restaurant</td>\n",
       "      <td>22</td>\n",
       "      <td>triniti echo park</td>\n",
       "      <td>1</td>\n",
       "      <td>sunset</td>\n",
       "    </tr>\n",
       "    <tr>\n",
       "      <th>4</th>\n",
       "      <td>11790</td>\n",
       "      <td>pollen</td>\n",
       "      <td>2100 echo park ave</td>\n",
       "      <td>False</td>\n",
       "      <td>restaurant</td>\n",
       "      <td>20</td>\n",
       "      <td>pollen</td>\n",
       "      <td>1</td>\n",
       "      <td>echo park</td>\n",
       "    </tr>\n",
       "  </tbody>\n",
       "</table>\n",
       "</div>"
      ],
      "text/plain": [
       "      id          object_name                    address  chain object_type  \\\n",
       "0  11786  habitat coffee shop     3708 n eagle rock blvd  False        cafe   \n",
       "1  11787             reilly's        100 world way # 120  False  restaurant   \n",
       "2  11788       street churros  6801 hollywood blvd # 253  False   fast food   \n",
       "3  11789    triniti echo park         1814 w sunset blvd  False  restaurant   \n",
       "4  11790               pollen         2100 echo park ave  False  restaurant   \n",
       "\n",
       "   seats          name_edited  num_of_objects      street  \n",
       "0     26  habitat coffee shop               1  eagle rock  \n",
       "1      9             reilly's               1       world  \n",
       "2     20       street churros               1   hollywood  \n",
       "3     22    triniti echo park               1      sunset  \n",
       "4     20               pollen               1   echo park  "
      ]
     },
     "execution_count": 363,
     "metadata": {},
     "output_type": "execute_result"
    }
   ],
   "source": [
    "# I used 'usaddress' module for getting the name of the address. The 'parse' function splits all\n",
    "# words and numbers in the string and characterize each of them - Address number, Street name, etc.\n",
    "# I took only the 'StreetName' kinds..\n",
    "def get_street_name(address):\n",
    "    address_param = usaddress.parse(address)\n",
    "    street = ''\n",
    "    for i in address_param:\n",
    "        if i[1] == 'StreetName':\n",
    "            street += i[0] + ' ' \n",
    "    return street[:len(street) - 1]\n",
    "\n",
    "data['street'] = data.address.apply(get_street_name)\n",
    "data.head()"
   ]
  },
  {
   "cell_type": "markdown",
   "metadata": {},
   "source": [
    "### We can see the function works except of 2 streets - Olvera and Los Angeles 1/2 "
   ]
  },
  {
   "cell_type": "code",
   "execution_count": 364,
   "metadata": {},
   "outputs": [
    {
     "data": {
      "text/html": [
       "<div>\n",
       "<style scoped>\n",
       "    .dataframe tbody tr th:only-of-type {\n",
       "        vertical-align: middle;\n",
       "    }\n",
       "\n",
       "    .dataframe tbody tr th {\n",
       "        vertical-align: top;\n",
       "    }\n",
       "\n",
       "    .dataframe thead th {\n",
       "        text-align: right;\n",
       "    }\n",
       "</style>\n",
       "<table border=\"1\" class=\"dataframe\">\n",
       "  <thead>\n",
       "    <tr style=\"text-align: right;\">\n",
       "      <th></th>\n",
       "      <th>id</th>\n",
       "      <th>object_name</th>\n",
       "      <th>address</th>\n",
       "      <th>chain</th>\n",
       "      <th>object_type</th>\n",
       "      <th>seats</th>\n",
       "      <th>name_edited</th>\n",
       "      <th>num_of_objects</th>\n",
       "      <th>street</th>\n",
       "    </tr>\n",
       "  </thead>\n",
       "  <tbody>\n",
       "    <tr>\n",
       "      <th>1888</th>\n",
       "      <td>13674</td>\n",
       "      <td>magdaleno debbie</td>\n",
       "      <td>olvera st e17</td>\n",
       "      <td>False</td>\n",
       "      <td>restaurant</td>\n",
       "      <td>15</td>\n",
       "      <td>magdaleno debbie</td>\n",
       "      <td>1</td>\n",
       "      <td></td>\n",
       "    </tr>\n",
       "    <tr>\n",
       "      <th>3719</th>\n",
       "      <td>15505</td>\n",
       "      <td>las anitas</td>\n",
       "      <td>olvera st 26</td>\n",
       "      <td>False</td>\n",
       "      <td>restaurant</td>\n",
       "      <td>38</td>\n",
       "      <td>las anitas</td>\n",
       "      <td>1</td>\n",
       "      <td></td>\n",
       "    </tr>\n",
       "    <tr>\n",
       "      <th>7003</th>\n",
       "      <td>18789</td>\n",
       "      <td>d.k. donuts</td>\n",
       "      <td>1033 1/2 los angeles st</td>\n",
       "      <td>False</td>\n",
       "      <td>fast food</td>\n",
       "      <td>8</td>\n",
       "      <td>d k donuts</td>\n",
       "      <td>1</td>\n",
       "      <td></td>\n",
       "    </tr>\n",
       "    <tr>\n",
       "      <th>7281</th>\n",
       "      <td>19067</td>\n",
       "      <td>cielito lindo</td>\n",
       "      <td>olvera st 23</td>\n",
       "      <td>False</td>\n",
       "      <td>restaurant</td>\n",
       "      <td>2</td>\n",
       "      <td>cielito lindo</td>\n",
       "      <td>1</td>\n",
       "      <td></td>\n",
       "    </tr>\n",
       "    <tr>\n",
       "      <th>7319</th>\n",
       "      <td>19105</td>\n",
       "      <td>juanita's cafe</td>\n",
       "      <td>olvera st 20</td>\n",
       "      <td>False</td>\n",
       "      <td>restaurant</td>\n",
       "      <td>12</td>\n",
       "      <td>juanita's cafe</td>\n",
       "      <td>1</td>\n",
       "      <td></td>\n",
       "    </tr>\n",
       "    <tr>\n",
       "      <th>7321</th>\n",
       "      <td>19107</td>\n",
       "      <td>kitty's snow cones</td>\n",
       "      <td>olvera st 2</td>\n",
       "      <td>False</td>\n",
       "      <td>restaurant</td>\n",
       "      <td>11</td>\n",
       "      <td>kitty's snow cones</td>\n",
       "      <td>1</td>\n",
       "      <td></td>\n",
       "    </tr>\n",
       "    <tr>\n",
       "      <th>7438</th>\n",
       "      <td>19224</td>\n",
       "      <td>la golondrina</td>\n",
       "      <td>olvera st w17</td>\n",
       "      <td>False</td>\n",
       "      <td>restaurant</td>\n",
       "      <td>204</td>\n",
       "      <td>la golondrina</td>\n",
       "      <td>1</td>\n",
       "      <td></td>\n",
       "    </tr>\n",
       "    <tr>\n",
       "      <th>7741</th>\n",
       "      <td>19527</td>\n",
       "      <td>rodolfo's restaurant</td>\n",
       "      <td>olvera st 5</td>\n",
       "      <td>True</td>\n",
       "      <td>restaurant</td>\n",
       "      <td>4</td>\n",
       "      <td>rodolfo's restaurant</td>\n",
       "      <td>1</td>\n",
       "      <td></td>\n",
       "    </tr>\n",
       "  </tbody>\n",
       "</table>\n",
       "</div>"
      ],
      "text/plain": [
       "         id           object_name                  address  chain object_type  \\\n",
       "1888  13674      magdaleno debbie            olvera st e17  False  restaurant   \n",
       "3719  15505            las anitas             olvera st 26  False  restaurant   \n",
       "7003  18789           d.k. donuts  1033 1/2 los angeles st  False   fast food   \n",
       "7281  19067         cielito lindo             olvera st 23  False  restaurant   \n",
       "7319  19105        juanita's cafe             olvera st 20  False  restaurant   \n",
       "7321  19107    kitty's snow cones              olvera st 2  False  restaurant   \n",
       "7438  19224         la golondrina            olvera st w17  False  restaurant   \n",
       "7741  19527  rodolfo's restaurant              olvera st 5   True  restaurant   \n",
       "\n",
       "      seats           name_edited  num_of_objects street  \n",
       "1888     15      magdaleno debbie               1         \n",
       "3719     38            las anitas               1         \n",
       "7003      8            d k donuts               1         \n",
       "7281      2         cielito lindo               1         \n",
       "7319     12        juanita's cafe               1         \n",
       "7321     11    kitty's snow cones               1         \n",
       "7438    204         la golondrina               1         \n",
       "7741      4  rodolfo's restaurant               1         "
      ]
     },
     "execution_count": 364,
     "metadata": {},
     "output_type": "execute_result"
    }
   ],
   "source": [
    "# Checking for streets that the function didn't catch\n",
    "data.query('street == \"\"')"
   ]
  },
  {
   "cell_type": "markdown",
   "metadata": {},
   "source": [
    "### I'll add this edge cases to another function:"
   ]
  },
  {
   "cell_type": "code",
   "execution_count": 365,
   "metadata": {},
   "outputs": [
    {
     "data": {
      "text/html": [
       "<div>\n",
       "<style scoped>\n",
       "    .dataframe tbody tr th:only-of-type {\n",
       "        vertical-align: middle;\n",
       "    }\n",
       "\n",
       "    .dataframe tbody tr th {\n",
       "        vertical-align: top;\n",
       "    }\n",
       "\n",
       "    .dataframe thead th {\n",
       "        text-align: right;\n",
       "    }\n",
       "</style>\n",
       "<table border=\"1\" class=\"dataframe\">\n",
       "  <thead>\n",
       "    <tr style=\"text-align: right;\">\n",
       "      <th></th>\n",
       "      <th>id</th>\n",
       "      <th>object_name</th>\n",
       "      <th>address</th>\n",
       "      <th>chain</th>\n",
       "      <th>object_type</th>\n",
       "      <th>seats</th>\n",
       "      <th>name_edited</th>\n",
       "      <th>num_of_objects</th>\n",
       "      <th>street</th>\n",
       "    </tr>\n",
       "  </thead>\n",
       "  <tbody>\n",
       "    <tr>\n",
       "      <th>7003</th>\n",
       "      <td>18789</td>\n",
       "      <td>d.k. donuts</td>\n",
       "      <td>1033 1/2 los angeles st</td>\n",
       "      <td>False</td>\n",
       "      <td>fast food</td>\n",
       "      <td>8</td>\n",
       "      <td>d k donuts</td>\n",
       "      <td>1</td>\n",
       "      <td></td>\n",
       "    </tr>\n",
       "  </tbody>\n",
       "</table>\n",
       "</div>"
      ],
      "text/plain": [
       "         id  object_name                  address  chain object_type  seats  \\\n",
       "7003  18789  d.k. donuts  1033 1/2 los angeles st  False   fast food      8   \n",
       "\n",
       "     name_edited  num_of_objects street  \n",
       "7003  d k donuts               1         "
      ]
     },
     "execution_count": 365,
     "metadata": {},
     "output_type": "execute_result"
    }
   ],
   "source": [
    "# Checking for exceptions, then filling manually\n",
    "def get_street_name(address):\n",
    "    address_param = usaddress.parse(address)\n",
    "    street = ''\n",
    "    for i in address_param:\n",
    "        if i[0].startswith('olvera'):\n",
    "            return 'olvera'\n",
    "        elif i[0].startswith('1033 1/2 los angeles st'):\n",
    "            return '1033 1/2 los angeles st'\n",
    "        elif i[1] == 'StreetName':\n",
    "            street += i[0] + ' '\n",
    "    return street[:len(street) - 1]\n",
    "\n",
    "data['street'] = data.address.apply(get_street_name)\n",
    "\n",
    "data.query('street == \"\"')"
   ]
  },
  {
   "cell_type": "code",
   "execution_count": 366,
   "metadata": {},
   "outputs": [
    {
     "data": {
      "text/plain": [
       "[('1033', 'AddressNumber'),\n",
       " ('1/2', 'AddressNumberSuffix'),\n",
       " ('los', 'PlaceName'),\n",
       " ('angeles', 'PlaceName'),\n",
       " ('st', 'StateName')]"
      ]
     },
     "execution_count": 366,
     "metadata": {},
     "output_type": "execute_result"
    }
   ],
   "source": [
    "# Checking particular case\n",
    "address_param = usaddress.parse('1033 1/2 los angeles st')\n",
    "address_param"
   ]
  },
  {
   "cell_type": "code",
   "execution_count": 367,
   "metadata": {},
   "outputs": [],
   "source": [
    "# I'll change it manually\n",
    "data.loc[data.address == '1033 1/2 los angeles st', 'street'] = '1033 1/2 los angeles'"
   ]
  },
  {
   "cell_type": "markdown",
   "metadata": {},
   "source": [
    "## Q7 - Plot a graph of the top ten streets by number of restaurants."
   ]
  },
  {
   "cell_type": "code",
   "execution_count": 368,
   "metadata": {},
   "outputs": [
    {
     "data": {
      "text/html": [
       "<div>\n",
       "<style scoped>\n",
       "    .dataframe tbody tr th:only-of-type {\n",
       "        vertical-align: middle;\n",
       "    }\n",
       "\n",
       "    .dataframe tbody tr th {\n",
       "        vertical-align: top;\n",
       "    }\n",
       "\n",
       "    .dataframe thead th {\n",
       "        text-align: right;\n",
       "    }\n",
       "</style>\n",
       "<table border=\"1\" class=\"dataframe\">\n",
       "  <thead>\n",
       "    <tr style=\"text-align: right;\">\n",
       "      <th></th>\n",
       "      <th>street</th>\n",
       "      <th>rest_in_street</th>\n",
       "    </tr>\n",
       "  </thead>\n",
       "  <tbody>\n",
       "    <tr>\n",
       "      <th>421</th>\n",
       "      <td>sunset</td>\n",
       "      <td>405</td>\n",
       "    </tr>\n",
       "    <tr>\n",
       "      <th>471</th>\n",
       "      <td>wilshire</td>\n",
       "      <td>398</td>\n",
       "    </tr>\n",
       "    <tr>\n",
       "      <th>361</th>\n",
       "      <td>pico</td>\n",
       "      <td>371</td>\n",
       "    </tr>\n",
       "    <tr>\n",
       "      <th>461</th>\n",
       "      <td>western</td>\n",
       "      <td>369</td>\n",
       "    </tr>\n",
       "    <tr>\n",
       "      <th>179</th>\n",
       "      <td>figueroa</td>\n",
       "      <td>334</td>\n",
       "    </tr>\n",
       "    <tr>\n",
       "      <th>343</th>\n",
       "      <td>olympic</td>\n",
       "      <td>309</td>\n",
       "    </tr>\n",
       "    <tr>\n",
       "      <th>445</th>\n",
       "      <td>vermont</td>\n",
       "      <td>288</td>\n",
       "    </tr>\n",
       "    <tr>\n",
       "      <th>391</th>\n",
       "      <td>santa monica</td>\n",
       "      <td>264</td>\n",
       "    </tr>\n",
       "    <tr>\n",
       "      <th>25</th>\n",
       "      <td>3rd</td>\n",
       "      <td>263</td>\n",
       "    </tr>\n",
       "    <tr>\n",
       "      <th>225</th>\n",
       "      <td>hollywood</td>\n",
       "      <td>254</td>\n",
       "    </tr>\n",
       "  </tbody>\n",
       "</table>\n",
       "</div>"
      ],
      "text/plain": [
       "           street  rest_in_street\n",
       "421        sunset             405\n",
       "471      wilshire             398\n",
       "361          pico             371\n",
       "461       western             369\n",
       "179      figueroa             334\n",
       "343       olympic             309\n",
       "445       vermont             288\n",
       "391  santa monica             264\n",
       "25            3rd             263\n",
       "225     hollywood             254"
      ]
     },
     "execution_count": 368,
     "metadata": {},
     "output_type": "execute_result"
    }
   ],
   "source": [
    "# Calculate number of restaurants per street\n",
    "streets = data.groupby('street').agg({'id': 'count'}).reset_index().sort_values(by='id',\n",
    "                                                                               ascending=False)\n",
    "streets.columns = ['street', 'rest_in_street']\n",
    "top_ten = streets.head(10)\n",
    "top_ten"
   ]
  },
  {
   "cell_type": "code",
   "execution_count": 369,
   "metadata": {},
   "outputs": [
    {
     "data": {
      "image/png": "[encoded data removed]",
      "text/plain": [
       "<Figure size 648x432 with 1 Axes>"
      ]
     },
     "metadata": {
      "needs_background": "light"
     },
     "output_type": "display_data"
    }
   ],
   "source": [
    "plt.subplots(figsize=(9, 6))\n",
    "ax = sns.barplot(x='street', y='rest_in_street', data=top_ten)\n",
    "plt.title('Top 10 Streets By Number Of Restaurants', fontsize=20)\n",
    "plt.xlabel('Street', fontsize=20)\n",
    "plt.ylabel('Number Of Restaurants', fontsize=20)\n",
    "plt.xticks(rotation=45)\n",
    "plt.show()"
   ]
  },
  {
   "cell_type": "markdown",
   "metadata": {},
   "source": [
    "## Q8 - Find the number of streets that have one restaurant"
   ]
  },
  {
   "cell_type": "code",
   "execution_count": 370,
   "metadata": {},
   "outputs": [
    {
     "data": {
      "text/html": [
       "<div>\n",
       "<style scoped>\n",
       "    .dataframe tbody tr th:only-of-type {\n",
       "        vertical-align: middle;\n",
       "    }\n",
       "\n",
       "    .dataframe tbody tr th {\n",
       "        vertical-align: top;\n",
       "    }\n",
       "\n",
       "    .dataframe thead th {\n",
       "        text-align: right;\n",
       "    }\n",
       "</style>\n",
       "<table border=\"1\" class=\"dataframe\">\n",
       "  <thead>\n",
       "    <tr style=\"text-align: right;\">\n",
       "      <th></th>\n",
       "      <th>one_rest</th>\n",
       "      <th>street</th>\n",
       "    </tr>\n",
       "  </thead>\n",
       "  <tbody>\n",
       "    <tr>\n",
       "      <th>0</th>\n",
       "      <td>False</td>\n",
       "      <td>288</td>\n",
       "    </tr>\n",
       "    <tr>\n",
       "      <th>1</th>\n",
       "      <td>True</td>\n",
       "      <td>196</td>\n",
       "    </tr>\n",
       "  </tbody>\n",
       "</table>\n",
       "</div>"
      ],
      "text/plain": [
       "   one_rest  street\n",
       "0     False     288\n",
       "1      True     196"
      ]
     },
     "execution_count": 370,
     "metadata": {},
     "output_type": "execute_result"
    }
   ],
   "source": [
    "# Adding indication to street with one restaurant\n",
    "streets['one_rest'] = streets.rest_in_street == 1\n",
    "boring_street = streets.groupby('one_rest').agg({'street': 'count'}).reset_index()\n",
    "boring_street"
   ]
  },
  {
   "cell_type": "markdown",
   "metadata": {},
   "source": [
    "### There are 196 streets that have only one restaurant"
   ]
  },
  {
   "cell_type": "code",
   "execution_count": 371,
   "metadata": {},
   "outputs": [
    {
     "data": {
      "image/png": "[encoded data removed]",
      "text/plain": [
       "<Figure size 576x432 with 1 Axes>"
      ]
     },
     "metadata": {},
     "output_type": "display_data"
    }
   ],
   "source": [
    "plt.subplots(figsize=(8, 6))\n",
    "plt.pie(boring_street.street, labels=['More than 1 restaurant', 'One restaurant'],\n",
    "            autopct='%1.1f%%')\n",
    "plt.title('Distribution of streets with one restaurant or more', fontsize=15)\n",
    "plt.show()"
   ]
  },
  {
   "cell_type": "markdown",
   "metadata": {},
   "source": [
    "## Q9 - For streets with a lot of restaurants, look at the distribution of the number of seats"
   ]
  },
  {
   "cell_type": "markdown",
   "metadata": {},
   "source": [
    "### 1.  Let's calculate the average number of seats in reastaurnt for each street\n",
    "### 2. Then, I'll decide which number of restaurants is 'a lot'.\n",
    "### 3. I'll try to find a connection between number of restaurants to number of seats."
   ]
  },
  {
   "cell_type": "code",
   "execution_count": 372,
   "metadata": {},
   "outputs": [
    {
     "data": {
      "text/html": [
       "<div>\n",
       "<style scoped>\n",
       "    .dataframe tbody tr th:only-of-type {\n",
       "        vertical-align: middle;\n",
       "    }\n",
       "\n",
       "    .dataframe tbody tr th {\n",
       "        vertical-align: top;\n",
       "    }\n",
       "\n",
       "    .dataframe thead th {\n",
       "        text-align: right;\n",
       "    }\n",
       "</style>\n",
       "<table border=\"1\" class=\"dataframe\">\n",
       "  <thead>\n",
       "    <tr style=\"text-align: right;\">\n",
       "      <th></th>\n",
       "      <th>street</th>\n",
       "      <th>rest_in_street</th>\n",
       "      <th>one_rest</th>\n",
       "      <th>seats_per_street</th>\n",
       "    </tr>\n",
       "  </thead>\n",
       "  <tbody>\n",
       "    <tr>\n",
       "      <th>0</th>\n",
       "      <td>sunset</td>\n",
       "      <td>405</td>\n",
       "      <td>False</td>\n",
       "      <td>48.0</td>\n",
       "    </tr>\n",
       "    <tr>\n",
       "      <th>1</th>\n",
       "      <td>wilshire</td>\n",
       "      <td>398</td>\n",
       "      <td>False</td>\n",
       "      <td>53.0</td>\n",
       "    </tr>\n",
       "    <tr>\n",
       "      <th>2</th>\n",
       "      <td>pico</td>\n",
       "      <td>371</td>\n",
       "      <td>False</td>\n",
       "      <td>41.0</td>\n",
       "    </tr>\n",
       "    <tr>\n",
       "      <th>3</th>\n",
       "      <td>western</td>\n",
       "      <td>369</td>\n",
       "      <td>False</td>\n",
       "      <td>41.0</td>\n",
       "    </tr>\n",
       "    <tr>\n",
       "      <th>4</th>\n",
       "      <td>figueroa</td>\n",
       "      <td>334</td>\n",
       "      <td>False</td>\n",
       "      <td>45.0</td>\n",
       "    </tr>\n",
       "  </tbody>\n",
       "</table>\n",
       "</div>"
      ],
      "text/plain": [
       "     street  rest_in_street  one_rest  seats_per_street\n",
       "0    sunset             405     False              48.0\n",
       "1  wilshire             398     False              53.0\n",
       "2      pico             371     False              41.0\n",
       "3   western             369     False              41.0\n",
       "4  figueroa             334     False              45.0"
      ]
     },
     "execution_count": 372,
     "metadata": {},
     "output_type": "execute_result"
    }
   ],
   "source": [
    "# 1. Calculating average number of seats per street\n",
    "seats_per_street = data.groupby(\n",
    "    'street' ).agg({'seats':'mean'}).reset_index().sort_values(by='seats', ascending=False)\n",
    "seats_per_street.columns = ['street', 'seats_per_street']\n",
    "seats_per_street['seats_per_street'] = np.round(seats_per_street['seats_per_street'])\n",
    "\n",
    "# Adding the average number of seats to 'street' DF\n",
    "streets = streets.merge(seats_per_street, on='street', how='left')\n",
    "streets.head()"
   ]
  },
  {
   "cell_type": "code",
   "execution_count": 373,
   "metadata": {},
   "outputs": [
    {
     "data": {
      "text/html": [
       "<div>\n",
       "<style scoped>\n",
       "    .dataframe tbody tr th:only-of-type {\n",
       "        vertical-align: middle;\n",
       "    }\n",
       "\n",
       "    .dataframe tbody tr th {\n",
       "        vertical-align: top;\n",
       "    }\n",
       "\n",
       "    .dataframe thead th {\n",
       "        text-align: right;\n",
       "    }\n",
       "</style>\n",
       "<table border=\"1\" class=\"dataframe\">\n",
       "  <thead>\n",
       "    <tr style=\"text-align: right;\">\n",
       "      <th></th>\n",
       "      <th>rest_in_street</th>\n",
       "    </tr>\n",
       "  </thead>\n",
       "  <tbody>\n",
       "    <tr>\n",
       "      <th>count</th>\n",
       "      <td>484.000000</td>\n",
       "    </tr>\n",
       "    <tr>\n",
       "      <th>mean</th>\n",
       "      <td>19.940083</td>\n",
       "    </tr>\n",
       "    <tr>\n",
       "      <th>std</th>\n",
       "      <td>53.744686</td>\n",
       "    </tr>\n",
       "    <tr>\n",
       "      <th>min</th>\n",
       "      <td>1.000000</td>\n",
       "    </tr>\n",
       "    <tr>\n",
       "      <th>25%</th>\n",
       "      <td>1.000000</td>\n",
       "    </tr>\n",
       "    <tr>\n",
       "      <th>50%</th>\n",
       "      <td>2.000000</td>\n",
       "    </tr>\n",
       "    <tr>\n",
       "      <th>75%</th>\n",
       "      <td>10.000000</td>\n",
       "    </tr>\n",
       "    <tr>\n",
       "      <th>max</th>\n",
       "      <td>405.000000</td>\n",
       "    </tr>\n",
       "  </tbody>\n",
       "</table>\n",
       "</div>"
      ],
      "text/plain": [
       "       rest_in_street\n",
       "count      484.000000\n",
       "mean        19.940083\n",
       "std         53.744686\n",
       "min          1.000000\n",
       "25%          1.000000\n",
       "50%          2.000000\n",
       "75%         10.000000\n",
       "max        405.000000"
      ]
     },
     "execution_count": 373,
     "metadata": {},
     "output_type": "execute_result"
    }
   ],
   "source": [
    "# 2. I'll decide which range to investigate - number of restaurants in street.\n",
    "streets[['rest_in_street']].describe()"
   ]
  },
  {
   "cell_type": "code",
   "execution_count": 374,
   "metadata": {},
   "outputs": [
    {
     "data": {
      "image/png": "[encoded data removed]",
      "text/plain": [
       "<Figure size 432x288 with 1 Axes>"
      ]
     },
     "metadata": {
      "needs_background": "light"
     },
     "output_type": "display_data"
    }
   ],
   "source": [
    "ax = streets.rest_in_street.hist(bins=50, log=True)\n",
    "plt.title('Distribution Of Number Of Restaurants In Street', fontsize=15)\n",
    "ax.set_xlabel('Number Of Restaurants In Street', fontsize=15)\n",
    "ax.set_ylabel('Distribution', fontsize=15)\n",
    "plt.show()"
   ]
  },
  {
   "cell_type": "markdown",
   "metadata": {},
   "source": [
    "- We can see that most of the streets (75%) have 10 restaurants or less.\n",
    "### So, streets with more than 10 restaurants are concidered as 'full of restaurants'"
   ]
  },
  {
   "cell_type": "code",
   "execution_count": 375,
   "metadata": {},
   "outputs": [
    {
     "data": {
      "text/html": [
       "<div>\n",
       "<style scoped>\n",
       "    .dataframe tbody tr th:only-of-type {\n",
       "        vertical-align: middle;\n",
       "    }\n",
       "\n",
       "    .dataframe tbody tr th {\n",
       "        vertical-align: top;\n",
       "    }\n",
       "\n",
       "    .dataframe thead th {\n",
       "        text-align: right;\n",
       "    }\n",
       "</style>\n",
       "<table border=\"1\" class=\"dataframe\">\n",
       "  <thead>\n",
       "    <tr style=\"text-align: right;\">\n",
       "      <th></th>\n",
       "      <th>seats_per_street</th>\n",
       "    </tr>\n",
       "  </thead>\n",
       "  <tbody>\n",
       "    <tr>\n",
       "      <th>count</th>\n",
       "      <td>484.000000</td>\n",
       "    </tr>\n",
       "    <tr>\n",
       "      <th>mean</th>\n",
       "      <td>50.942149</td>\n",
       "    </tr>\n",
       "    <tr>\n",
       "      <th>std</th>\n",
       "      <td>43.670951</td>\n",
       "    </tr>\n",
       "    <tr>\n",
       "      <th>min</th>\n",
       "      <td>2.000000</td>\n",
       "    </tr>\n",
       "    <tr>\n",
       "      <th>25%</th>\n",
       "      <td>22.000000</td>\n",
       "    </tr>\n",
       "    <tr>\n",
       "      <th>50%</th>\n",
       "      <td>38.000000</td>\n",
       "    </tr>\n",
       "    <tr>\n",
       "      <th>75%</th>\n",
       "      <td>65.000000</td>\n",
       "    </tr>\n",
       "    <tr>\n",
       "      <th>max</th>\n",
       "      <td>229.000000</td>\n",
       "    </tr>\n",
       "  </tbody>\n",
       "</table>\n",
       "</div>"
      ],
      "text/plain": [
       "       seats_per_street\n",
       "count        484.000000\n",
       "mean          50.942149\n",
       "std           43.670951\n",
       "min            2.000000\n",
       "25%           22.000000\n",
       "50%           38.000000\n",
       "75%           65.000000\n",
       "max          229.000000"
      ]
     },
     "execution_count": 375,
     "metadata": {},
     "output_type": "execute_result"
    }
   ],
   "source": [
    "# General info about average number of seats\n",
    "streets[['seats_per_street']].describe()"
   ]
  },
  {
   "cell_type": "code",
   "execution_count": 376,
   "metadata": {},
   "outputs": [
    {
     "data": {
      "text/html": [
       "<div>\n",
       "<style scoped>\n",
       "    .dataframe tbody tr th:only-of-type {\n",
       "        vertical-align: middle;\n",
       "    }\n",
       "\n",
       "    .dataframe tbody tr th {\n",
       "        vertical-align: top;\n",
       "    }\n",
       "\n",
       "    .dataframe thead th {\n",
       "        text-align: right;\n",
       "    }\n",
       "</style>\n",
       "<table border=\"1\" class=\"dataframe\">\n",
       "  <thead>\n",
       "    <tr style=\"text-align: right;\">\n",
       "      <th></th>\n",
       "      <th>rest_in_street</th>\n",
       "      <th>seats_per_street</th>\n",
       "    </tr>\n",
       "  </thead>\n",
       "  <tbody>\n",
       "    <tr>\n",
       "      <th>117</th>\n",
       "      <td>11</td>\n",
       "      <td>63.0</td>\n",
       "    </tr>\n",
       "    <tr>\n",
       "      <th>116</th>\n",
       "      <td>11</td>\n",
       "      <td>73.0</td>\n",
       "    </tr>\n",
       "    <tr>\n",
       "      <th>115</th>\n",
       "      <td>11</td>\n",
       "      <td>13.0</td>\n",
       "    </tr>\n",
       "    <tr>\n",
       "      <th>109</th>\n",
       "      <td>12</td>\n",
       "      <td>79.0</td>\n",
       "    </tr>\n",
       "    <tr>\n",
       "      <th>110</th>\n",
       "      <td>12</td>\n",
       "      <td>18.0</td>\n",
       "    </tr>\n",
       "  </tbody>\n",
       "</table>\n",
       "</div>"
      ],
      "text/plain": [
       "     rest_in_street  seats_per_street\n",
       "117              11              63.0\n",
       "116              11              73.0\n",
       "115              11              13.0\n",
       "109              12              79.0\n",
       "110              12              18.0"
      ]
     },
     "execution_count": 376,
     "metadata": {},
     "output_type": "execute_result"
    }
   ],
   "source": [
    "# Build df for streets with lots of restaurants\n",
    "full_streets = streets.query(\n",
    "    'rest_in_street > 10')[['rest_in_street', 'seats_per_street']].sort_values(\n",
    "    by='rest_in_street')\n",
    "full_streets.head()"
   ]
  },
  {
   "cell_type": "code",
   "execution_count": 377,
   "metadata": {},
   "outputs": [
    {
     "data": {
      "text/plain": [
       "118"
      ]
     },
     "execution_count": 377,
     "metadata": {},
     "output_type": "execute_result"
    }
   ],
   "source": [
    "# We have 118 'full streets'\n",
    "len(full_streets)"
   ]
  },
  {
   "cell_type": "code",
   "execution_count": 378,
   "metadata": {},
   "outputs": [
    {
     "data": {
      "image/png": "[encoded data removed]",
      "text/plain": [
       "<Figure size 864x432 with 1 Axes>"
      ]
     },
     "metadata": {
      "needs_background": "light"
     },
     "output_type": "display_data"
    }
   ],
   "source": [
    "plt.subplots(figsize=(12, 6))\n",
    "sns.scatterplot(data=full_streets, x=\"rest_in_street\", y=\"seats_per_street\", color='green')\n",
    "plt.title('Relation Between Number of Seats In a Restaurant & Streets With Lots Of Restaurants', fontsize=20)\n",
    "plt.xlabel('Number Of Restaurants In a Street', fontsize=20)\n",
    "plt.ylabel('Average Number Of Seats', fontsize=20)\n",
    "plt.show()"
   ]
  },
  {
   "cell_type": "markdown",
   "metadata": {},
   "source": [
    "### We can see that the more restaurants in streets, the number of seats becomes stable around the average (about 50), like normal distribution!"
   ]
  },
  {
   "cell_type": "code",
   "execution_count": 379,
   "metadata": {},
   "outputs": [
    {
     "data": {
      "image/png": "[encoded data removed]",
      "text/plain": [
       "<Figure size 864x432 with 1 Axes>"
      ]
     },
     "metadata": {
      "needs_background": "light"
     },
     "output_type": "display_data"
    }
   ],
   "source": [
    "plt.subplots(figsize=(12, 6))\n",
    "sns.scatterplot(data=streets, x=\"rest_in_street\", y=\"seats_per_street\", color='green')\n",
    "plt.title('Relation Between Number of Seats In a Restaurant & Number of Restaurants In a Street', fontsize=20)\n",
    "plt.xlabel('Number Of Restaurants In a Street', fontsize=20)\n",
    "plt.ylabel('Average Number Of Seats', fontsize=20)\n",
    "plt.show()"
   ]
  },
  {
   "cell_type": "markdown",
   "metadata": {},
   "source": [
    "### We can see this trend also in streets with small number of restaurants (but with a little skewness)"
   ]
  },
  {
   "cell_type": "markdown",
   "metadata": {},
   "source": [
    "# <a id=\"third_step\"> Step 3 - Conclusions:</a> \n",
    "## General Stats:\n",
    "\n",
    "1. <b> There are 9651 restaurants in LA. </b>\n",
    "\n",
    "\n",
    "2. <b> The Most common type of establishment is restaurant -  </b>\n",
    "    * 75% of the establishments (that is 7251) are restaurants.\n",
    "    * 11% of them (that is 1087 objects) are fast food.\n",
    "    * The rest (between 3%-4% for each type, that is 280-430 objects per type) are cafe, pizza, bar   and bakery. \n",
    "    \n",
    "    \n",
    "3. <b> 41% of the places (that is 3997) are chains - </b>\n",
    "    * All bakeries belong to chains. \n",
    "    * In addition, most of the fast food and cafe (~60%) belong to chains.\n",
    "    * From the other hand, most of the restaurants and bars (~60%) aren't belong to chains.\n",
    "    \n",
    "    \n",
    "4. <b> The average number of seats in a place is 44 - </b>\n",
    "    * There are many chains (3294, that is 82%) with a small number of seats (less than 50 seats); and few chains (18%, that is 703) with a lot of seats.\n",
    "    * The highest average number of seats is in restaurants - 48 seats, and bars with 44 seats.\n",
    "    * The average number in fast food is 32, and 28 in pizza.\n",
    "    * The lowest average is in cafe - 25, and bakeries - 22.\n",
    "    \n",
    "    \n",
    "5.  <b> The restaurants are spread over 484 streets in LA. </b>\n",
    "    * 59% of this streets (that is 288 streets) have only one restaurant, while the others (196) have more than once.\n",
    "\n",
    "## Recommendations\n",
    "\n",
    "#### 1. I advise to use the robot in restaurants, because the average number of seats there is much higher than others.\n",
    "    \n",
    "#### 2. I also reccomend to use the robot in a popular street in LA, that way more people will know it\n",
    "\n",
    "#### 3. We can start with several chains. We can use it in a few stores, and then looking for increase in revenues.\n",
    "\n",
    "### Ron Sherwi\n"
   ]
  },
  {
   "cell_type": "markdown",
   "metadata": {},
   "source": [
    "## Link to Presentation <a href=\"https://drive.google.com/file/d/1RQ4pHRMyhtmq-U7-r8DF3qYS3Iq6zsiB/view?usp=sharing\"> Here </a>\n"
   ]
  },
  {
   "cell_type": "code",
   "execution_count": null,
   "metadata": {},
   "outputs": [],
   "source": []
  }
 ],
 "metadata": {
  "kernelspec": {
   "display_name": "Python 3",
   "language": "python",
   "name": "python3"
  },
  "language_info": {
   "codemirror_mode": {
    "name": "ipython",
    "version": 3
   },
   "file_extension": ".py",
   "mimetype": "text/x-python",
   "name": "python",
   "nbconvert_exporter": "python",
   "pygments_lexer": "ipython3",
   "version": "3.8.5"
  }
 },
 "nbformat": 4,
 "nbformat_minor": 2
}
